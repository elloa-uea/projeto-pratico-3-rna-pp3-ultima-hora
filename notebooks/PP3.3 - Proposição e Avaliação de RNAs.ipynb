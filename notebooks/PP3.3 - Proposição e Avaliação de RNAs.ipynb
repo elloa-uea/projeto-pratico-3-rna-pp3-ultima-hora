{
  "nbformat": 4,
  "nbformat_minor": 0,
  "metadata": {
    "kernelspec": {
      "name": "Python 3.7.8 64-bit",
      "display_name": "Python 3.7.8 64-bit",
      "metadata": {
        "interpreter": {
          "hash": "fbe28bcfee59f30c0cb765102c2d8740bc7e9b855c6799f01a92443df17c33c3"
        }
      }
    },
    "language_info": {
      "codemirror_mode": {
        "name": "ipython",
        "version": 3
      },
      "file_extension": ".py",
      "mimetype": "text/x-python",
      "name": "python",
      "nbconvert_exporter": "python",
      "pygments_lexer": "ipython3",
      "version": "3.7.8-final"
    },
    "colab": {
      "name": "PP3.3 - Proposição e Avaliação de RNAs.ipynb",
      "provenance": []
    }
  },
  "cells": [
    {
      "cell_type": "markdown",
      "metadata": {
        "id": "MMqffoewj91f"
      },
      "source": [
        "## Redes Neurais Artificiais 2020.1\n",
        "\n",
        "**Disciplina**: Redes Neurais Artificiais 2020.1  \n",
        "**Professora**: Elloá B. Guedes (ebgcosta@uea.edu.br)  \n",
        "**Github**: http://github.com/elloa  \n",
        "        \n",
        "\n",
        "Levando em conta a base de dados **_Forest Cover Type_**, esta terceira parte do Projeto Prático 3 diz respeito à proposição e avaliação de múltiplas redes neurais artificiais do tipo feedforward multilayer perceptron para o problema da classificação multi-classe da cobertura florestal em uma área do Roosevelt National Forest.\n",
        "\n",
        "## Testando Redes Neurais sem os Atributos Categórios\n",
        "\n",
        "1. Abra a base de dados em questão\n",
        "2. Elimine todas as colunas relativas aos atributos categóricos\n",
        "3. Armazene o atributo alvo em uma variável y e os atributos preditores em uma variável X\n",
        "4. Efetue uma partição holdout 70/30 com o sklearn, distribuindo os exemplos de maneira aleatória\n",
        "5. Efetue o escalonamento dos atributos\n",
        "\n",
        "### Escalonando os atributos\n",
        "\n",
        "O treinamento de uma rede neural artificial é mais eficiente quando os valores que lhes são fornecidos como entrada são pequenos, pois isto favorece a convergência. Isto é feito escalonando-se todos os atributos para o intervalo [0,1], mas precisa ser feito de maneira cautelosa, para que informações do conjunto de teste não sejam fornecidas no treinamento.\n",
        "\n",
        "Há duas estratégias para tal escalonamento: normalização e padronização. Ambas possuem características particulares, vantagens e limitações, como é possível ver aqui: https://www.analyticsvidhya.com/blog/2020/04/feature-scaling-machine-learning-normalization-standardization/\n",
        "\n",
        "\n",
        "No nosso caso, vamos usar a padronização. Assim, com os atributos preditores do treinamento, isto é, X_train, deve-se subtrair a média e dividir pelo desvio padrão:\n",
        "\n",
        "X_train_std = (X_train - np.mean(X_train))/np.std(X_train)\n",
        "\n",
        "Em seguida, o mesmo deve ser feito com os atributos preditores do conjunto de testes, mas com padronização relativa ao conjunto de treinamento:\n",
        "\n",
        "X_test_std = (X_test - np.mean(X_train))/np.std(X_train)\n",
        "\n",
        "Se todo o conjunto X for utilizado na padronização, a rede neural receberá informações do conjunto de teste por meio da média e variância utilizada para preparar os dados de treinamento, o que não é desejável.\n",
        "\n",
        "\n",
        "### Continuando\n",
        "\n",
        "5. Treine uma rede neural multilayer perceptron para este problema com uma única camada e dez neurônios  \n",
        "    5.1 Utilize a função de ativação ReLU  \n",
        "    5.2 Utilize o solver Adam    \n",
        "    5.3 Imprima o passo a passo do treinamento    \n",
        "    5.4 Utilize o número máximo de épocas igual a 300  \n",
        "6. Com o modelo em questão, após o treinamento, apresente:  \n",
        "    6.1 Matriz de confusão para o conjunto de teste  \n",
        "    6.2 Acurácia  \n",
        "    6.3 F-Score  \n",
        "    6.4 Precisão  \n",
        "    6.5 Revocação  \n",
        "7. Repita o treinamento da mesma rede anterior sem imprimir o passo a passo (verbose False) por 100 vezes  \n",
        "    7.1 Cada uma destas repetições deve ser feita com uma nova partição Holdout  \n",
        "    7.2 Apresente a média e o desvio padrão da acurácia e do F-Score para o conjunto de treino  \n",
        "8. Repita por 100 vezes o treinamento desta mesma rede, mas utilizando o otimizador SGD  \n",
        "    8.1 Apresente a média e o desvio padrão da acurácia e do F-Score para o conjunto de treino  \n",
        "9. Houve influência da escolha do otimizador no desempenho da rede?"
      ]
    },
    {
      "cell_type": "code",
      "metadata": {
        "id": "sAo8WDLSj91g"
      },
      "source": [
        "## Reservado para a importação de bibliotecas\n",
        "import numpy as np\n",
        "import pandas as pd\n",
        "from matplotlib import pyplot as plt\n",
        "from sklearn.model_selection import train_test_split\n",
        "from sklearn.neural_network import MLPClassifier\n",
        "from sklearn.metrics import confusion_matrix, precision_score, f1_score, recall_score, accuracy_score\n",
        "import seaborn as sns"
      ],
      "execution_count": 13,
      "outputs": []
    },
    {
      "cell_type": "code",
      "metadata": {
        "id": "aRpNT1jTj91l"
      },
      "source": [
        "#abrindo arquivo\n",
        "df = pd.read_csv('covtype.csv')"
      ],
      "execution_count": 14,
      "outputs": []
    },
    {
      "cell_type": "code",
      "metadata": {
        "id": "RIF94-uhj91o"
      },
      "source": [
        "#eliminando todos os atributos categóricos('Wilderness_Area' e 'Soil_Type'), geramos o 'df_sac' (dataframe sem atributos categóricos)\n",
        "\n",
        "for i in range(4):\n",
        "    df_sac = df.drop([('Wilderness_Area' + str(i+1))], axis = 1)\n",
        "for i in range(40):\n",
        "    df_sac = df.drop([('Soil_Type' + str(i+1))], axis = 1)\n",
        "\n",
        "# X = atributos preditores \n",
        "x = df_sac.drop(['Cover_Type'],axis = 1)\n",
        "# Y = atributo alvo\n",
        "y = df_sac['Cover_Type']\n",
        "\n",
        "#particionar\n",
        "x_train, x_test, y_train, y_test = train_test_split(x, y, test_size = 0.3)"
      ],
      "execution_count": 15,
      "outputs": []
    },
    {
      "cell_type": "code",
      "metadata": {
        "id": "nJT79x3kj91s"
      },
      "source": [
        "#escalonamento\n",
        "X_train_std = (x_train - np.mean(x_train))/np.std(x_train)\n",
        "X_test_std = (x_test - np.mean(x_train))/np.std(x_train)"
      ],
      "execution_count": 16,
      "outputs": []
    },
    {
      "cell_type": "code",
      "metadata": {
        "id": "d0ElTjFEj91w",
        "outputId": "00d00983-a01e-47cf-81c3-b3f3feabbfd7",
        "colab": {
          "base_uri": "https://localhost:8080/",
          "height": 1000
        }
      },
      "source": [
        "# Treino da rede neural multilayer(RNM)\n",
        "epochs=300\n",
        "rnm=MLPClassifier(hidden_layer_sizes= (10,), activation= \"relu\", solver= 'adam', max_iter= epochs, verbose= True)\n",
        "rnm.fit(X_train_std, y_train)"
      ],
      "execution_count": 17,
      "outputs": [
        {
          "output_type": "stream",
          "text": [
            "Iteration 1, loss = 0.82446644\n",
            "Iteration 2, loss = 0.63487496\n",
            "Iteration 3, loss = 0.61641363\n",
            "Iteration 4, loss = 0.60865908\n",
            "Iteration 5, loss = 0.60438191\n",
            "Iteration 6, loss = 0.60141771\n",
            "Iteration 7, loss = 0.59893046\n",
            "Iteration 8, loss = 0.59678835\n",
            "Iteration 9, loss = 0.59530627\n",
            "Iteration 10, loss = 0.59410182\n",
            "Iteration 11, loss = 0.59289009\n",
            "Iteration 12, loss = 0.59207609\n",
            "Iteration 13, loss = 0.59123705\n",
            "Iteration 14, loss = 0.59037453\n",
            "Iteration 15, loss = 0.58970880\n",
            "Iteration 16, loss = 0.58919903\n",
            "Iteration 17, loss = 0.58836580\n",
            "Iteration 18, loss = 0.58760130\n",
            "Iteration 19, loss = 0.58640284\n",
            "Iteration 20, loss = 0.58546667\n",
            "Iteration 21, loss = 0.58417836\n",
            "Iteration 22, loss = 0.58344667\n",
            "Iteration 23, loss = 0.58229631\n",
            "Iteration 24, loss = 0.58157655\n",
            "Iteration 25, loss = 0.58092007\n",
            "Iteration 26, loss = 0.58029139\n",
            "Iteration 27, loss = 0.57986829\n",
            "Iteration 28, loss = 0.57951252\n",
            "Iteration 29, loss = 0.57916587\n",
            "Iteration 30, loss = 0.57880392\n",
            "Iteration 31, loss = 0.57848197\n",
            "Iteration 32, loss = 0.57817852\n",
            "Iteration 33, loss = 0.57771364\n",
            "Iteration 34, loss = 0.57729555\n",
            "Iteration 35, loss = 0.57690639\n",
            "Iteration 36, loss = 0.57650630\n",
            "Iteration 37, loss = 0.57617184\n",
            "Iteration 38, loss = 0.57595315\n",
            "Iteration 39, loss = 0.57562105\n",
            "Iteration 40, loss = 0.57555808\n",
            "Iteration 41, loss = 0.57540090\n",
            "Iteration 42, loss = 0.57523110\n",
            "Iteration 43, loss = 0.57517788\n",
            "Iteration 44, loss = 0.57504223\n",
            "Iteration 45, loss = 0.57493532\n",
            "Iteration 46, loss = 0.57478440\n",
            "Iteration 47, loss = 0.57472986\n",
            "Iteration 48, loss = 0.57433642\n",
            "Iteration 49, loss = 0.57412869\n",
            "Iteration 50, loss = 0.57395258\n",
            "Iteration 51, loss = 0.57383428\n",
            "Iteration 52, loss = 0.57367746\n",
            "Iteration 53, loss = 0.57358595\n",
            "Iteration 54, loss = 0.57355534\n",
            "Iteration 55, loss = 0.57357106\n",
            "Iteration 56, loss = 0.57359916\n",
            "Iteration 57, loss = 0.57333232\n",
            "Iteration 58, loss = 0.57330549\n",
            "Iteration 59, loss = 0.57320087\n",
            "Iteration 60, loss = 0.57310011\n",
            "Iteration 61, loss = 0.57307069\n",
            "Iteration 62, loss = 0.57304307\n",
            "Iteration 63, loss = 0.57317959\n",
            "Iteration 64, loss = 0.57301919\n",
            "Iteration 65, loss = 0.57277124\n",
            "Iteration 66, loss = 0.57287512\n",
            "Iteration 67, loss = 0.57290120\n",
            "Iteration 68, loss = 0.57277393\n",
            "Iteration 69, loss = 0.57291754\n",
            "Iteration 70, loss = 0.57284589\n",
            "Iteration 71, loss = 0.57284752\n",
            "Iteration 72, loss = 0.57277829\n",
            "Iteration 73, loss = 0.57272494\n",
            "Iteration 74, loss = 0.57268410\n",
            "Iteration 75, loss = 0.57259322\n",
            "Iteration 76, loss = 0.57262872\n",
            "Training loss did not improve more than tol=0.000100 for 10 consecutive epochs. Stopping.\n"
          ],
          "name": "stdout"
        },
        {
          "output_type": "execute_result",
          "data": {
            "text/plain": [
              "MLPClassifier(activation='relu', alpha=0.0001, batch_size='auto', beta_1=0.9,\n",
              "              beta_2=0.999, early_stopping=False, epsilon=1e-08,\n",
              "              hidden_layer_sizes=(10,), learning_rate='constant',\n",
              "              learning_rate_init=0.001, max_fun=15000, max_iter=300,\n",
              "              momentum=0.9, n_iter_no_change=10, nesterovs_momentum=True,\n",
              "              power_t=0.5, random_state=None, shuffle=True, solver='adam',\n",
              "              tol=0.0001, validation_fraction=0.1, verbose=True,\n",
              "              warm_start=False)"
            ]
          },
          "metadata": {
            "tags": []
          },
          "execution_count": 17
        }
      ]
    },
    {
      "cell_type": "code",
      "metadata": {
        "id": "XDsUdX5Aj911",
        "outputId": "2a4d889c-9de0-42e2-d98e-822e6aa3b053",
        "colab": {
          "base_uri": "https://localhost:8080/",
          "height": 407
        }
      },
      "source": [
        "#predizer saidas do conjunto de teste, conforme treino da Rede\n",
        "y_predictions = rnm.predict(X_test_std)\n",
        "#gerar matriz de confusão\n",
        "conf_matrix = confusion_matrix(y_test, y_predictions)\n",
        "#plotar matriz\n",
        "fig, ax = plt.subplots(figsize=(12,6))\n",
        "ax.set_title(\"Matriz de Confusão\", fontsize=12)\n",
        "sns.heatmap(conf_matrix, annot=True, cmap='Reds')\n"
      ],
      "execution_count": 18,
      "outputs": [
        {
          "output_type": "execute_result",
          "data": {
            "text/plain": [
              "<matplotlib.axes._subplots.AxesSubplot at 0x7f6d2fcb5390>"
            ]
          },
          "metadata": {
            "tags": []
          },
          "execution_count": 18
        },
        {
          "output_type": "display_data",
          "data": {
            "image/png": "[encoded data removed]",
            "text/plain": [
              "<Figure size 864x432 with 2 Axes>"
            ]
          },
          "metadata": {
            "tags": [],
            "needs_background": "light"
          }
        }
      ]
    },
    {
      "cell_type": "code",
      "metadata": {
        "id": "Ii7rl7kPj914",
        "outputId": "57b614eb-8b53-482c-f2af-803fc1200944",
        "colab": {
          "base_uri": "https://localhost:8080/",
          "height": 102
        }
      },
      "source": [
        "\n",
        "print(\"Sobre essa base de dados é possível inferir os valores para as seguintes métricas de desempenho:\")\n",
        "\n",
        "print('\\tAcurácia:',accuracy_score(y_test, y_predictions))\n",
        "print('\\tF-Score:',f1_score(y_test, y_predictions, average= 'macro'))\n",
        "print('\\tPrecisão:',precision_score(y_test, y_predictions, average= 'macro'))\n",
        "print('\\tRevocação:',recall_score(y_test, y_predictions, average= 'macro'))\n"
      ],
      "execution_count": 19,
      "outputs": [
        {
          "output_type": "stream",
          "text": [
            "Sobre essa base de dados é possível inferir os valores para as seguintes métricas de desempenho:\n",
            "\tAcurácia: 0.7574008628602901\n",
            "\tF-Score: 0.5679436558110119\n",
            "\tPrecisão: 0.6943835824805025\n",
            "\tRevocação: 0.5437399581610987\n"
          ],
          "name": "stdout"
        }
      ]
    },
    {
      "cell_type": "code",
      "metadata": {
        "id": "y_mtg6oGj92B"
      },
      "source": [
        "def calc_medidas(acuracia,f1score):\n",
        "    print(\"Média da Acurácia: \",np.mean(acuracia))\n",
        "    print(\"Desvio Padrão da Acurácia: \", np.std(acuracia))\n",
        "    print(\"Média do F1-Score: \", np.mean(f1score))\n",
        "    print(\"Desvio Padrão do F1-Score: \", np.std(f1score))"
      ],
      "execution_count": 20,
      "outputs": []
    },
    {
      "cell_type": "code",
      "metadata": {
        "id": "VF_oc0x6j92H"
      },
      "source": [
        "# Treino da rede neural multilayer(RNM) Sem impressão de interação e 100 repetições. **optamos por 10 repetições\n",
        "\n",
        "\n",
        "def treino_100_rep(solver_):\n",
        "    acuracia=[]\n",
        "    f1 = []\n",
        "\n",
        "    for i in range(10):\n",
        "        #a cada repetição uma nova partição\n",
        "        x_train, x_test, y_train, y_test = train_test_split(x, y, test_size = 0.3)\n",
        "        #escalonamento\n",
        "        X_train_std = (x_train - np.mean(x_train))/np.std(x_train)\n",
        "        X_test_std = (x_test - np.mean(x_train))/np.std(x_train)\n",
        "\n",
        "        #treino\n",
        "        epochs=300\n",
        "        rnm=MLPClassifier(hidden_layer_sizes= (10,), activation= \"relu\", solver= solver_, max_iter= epochs, verbose= False)\n",
        "        rnm.fit(X_train_std, y_train)\n",
        "\n",
        "        predictions = rnm.predict(X_test_std)\n",
        "    \n",
        "        acuracia.append((accuracy_score(y_test,predictions)))\n",
        "        f1.append((f1_score(y_test,predictions, average= 'macro')))\n",
        "\n",
        "    calc_medidas(acuracia,f1)\n"
      ],
      "execution_count": 21,
      "outputs": []
    },
    {
      "cell_type": "markdown",
      "metadata": {
        "id": "6pymjFiXrTLC"
      },
      "source": [
        ""
      ]
    },
    {
      "cell_type": "code",
      "metadata": {
        "id": "Lze4blezj92N",
        "outputId": "2d89f74f-2d40-4aae-cf24-2eb99bd7bcaf",
        "colab": {
          "base_uri": "https://localhost:8080/",
          "height": 340
        }
      },
      "source": [
        "# Treino da rede neural multilayer(RNM) // Repetido 10 vezes e utilizando o otimizador ADAM. \n",
        "solver= 'adam'\n",
        "treino_100_rep(solver)"
      ],
      "execution_count": 22,
      "outputs": [
        {
          "output_type": "error",
          "ename": "AttributeError",
          "evalue": "ignored",
          "traceback": [
            "\u001b[0;31m---------------------------------------------------------------------------\u001b[0m",
            "\u001b[0;31mAttributeError\u001b[0m                            Traceback (most recent call last)",
            "\u001b[0;32m<ipython-input-22-fdf9bf5ec22d>\u001b[0m in \u001b[0;36m<module>\u001b[0;34m()\u001b[0m\n\u001b[1;32m      1\u001b[0m \u001b[0;31m# Treino da rede neural multilayer(RNM) // Repetido 10 vezes e utilizando o otimizador ADAM.\u001b[0m\u001b[0;34m\u001b[0m\u001b[0;34m\u001b[0m\u001b[0;34m\u001b[0m\u001b[0m\n\u001b[1;32m      2\u001b[0m \u001b[0msolver\u001b[0m\u001b[0;34m=\u001b[0m \u001b[0;34m'adam'\u001b[0m\u001b[0;34m\u001b[0m\u001b[0;34m\u001b[0m\u001b[0m\n\u001b[0;32m----> 3\u001b[0;31m \u001b[0mtreino_100_rep\u001b[0m\u001b[0;34m(\u001b[0m\u001b[0msolver\u001b[0m\u001b[0;34m)\u001b[0m\u001b[0;34m\u001b[0m\u001b[0;34m\u001b[0m\u001b[0m\n\u001b[0m",
            "\u001b[0;32m<ipython-input-21-f19c3363d78a>\u001b[0m in \u001b[0;36mtreino_100_rep\u001b[0;34m(solver_)\u001b[0m\n\u001b[1;32m     23\u001b[0m         \u001b[0mf1\u001b[0m\u001b[0;34m.\u001b[0m\u001b[0mappend\u001b[0m\u001b[0;34m(\u001b[0m\u001b[0mf1_score\u001b[0m\u001b[0;34m(\u001b[0m\u001b[0my_test\u001b[0m\u001b[0;34m,\u001b[0m\u001b[0mpredictions\u001b[0m\u001b[0;34m,\u001b[0m \u001b[0maverage\u001b[0m\u001b[0;34m=\u001b[0m \u001b[0;34m'macro'\u001b[0m\u001b[0;34m)\u001b[0m\u001b[0;34m)\u001b[0m\u001b[0;34m\u001b[0m\u001b[0;34m\u001b[0m\u001b[0m\n\u001b[1;32m     24\u001b[0m \u001b[0;34m\u001b[0m\u001b[0m\n\u001b[0;32m---> 25\u001b[0;31m     \u001b[0mcalc_medidas\u001b[0m\u001b[0;34m(\u001b[0m\u001b[0macuracia\u001b[0m\u001b[0;34m,\u001b[0m\u001b[0mf1\u001b[0m\u001b[0;34m)\u001b[0m\u001b[0;34m\u001b[0m\u001b[0;34m\u001b[0m\u001b[0m\n\u001b[0m",
            "\u001b[0;32m<ipython-input-20-7c7267e83851>\u001b[0m in \u001b[0;36mcalc_medidas\u001b[0;34m(acuracia, f1score)\u001b[0m\n\u001b[1;32m      1\u001b[0m \u001b[0;32mdef\u001b[0m \u001b[0mcalc_medidas\u001b[0m\u001b[0;34m(\u001b[0m\u001b[0macuracia\u001b[0m\u001b[0;34m,\u001b[0m\u001b[0mf1score\u001b[0m\u001b[0;34m)\u001b[0m\u001b[0;34m:\u001b[0m\u001b[0;34m\u001b[0m\u001b[0;34m\u001b[0m\u001b[0m\n\u001b[0;32m----> 2\u001b[0;31m     \u001b[0mprint\u001b[0m\u001b[0;34m(\u001b[0m\u001b[0;34m\"Média da Acurácia: \"\u001b[0m\u001b[0;34m,\u001b[0m\u001b[0macuracia\u001b[0m\u001b[0;34m.\u001b[0m\u001b[0mmean\u001b[0m\u001b[0;34m(\u001b[0m\u001b[0;34m)\u001b[0m\u001b[0;34m)\u001b[0m\u001b[0;34m\u001b[0m\u001b[0;34m\u001b[0m\u001b[0m\n\u001b[0m\u001b[1;32m      3\u001b[0m     \u001b[0mprint\u001b[0m\u001b[0;34m(\u001b[0m\u001b[0;34m\"Desvio Padrão da Acurácia: \"\u001b[0m\u001b[0;34m,\u001b[0m \u001b[0macuracia\u001b[0m\u001b[0;34m.\u001b[0m\u001b[0mstd\u001b[0m\u001b[0;34m(\u001b[0m\u001b[0;34m)\u001b[0m\u001b[0;34m)\u001b[0m\u001b[0;34m\u001b[0m\u001b[0;34m\u001b[0m\u001b[0m\n\u001b[1;32m      4\u001b[0m     \u001b[0mprint\u001b[0m\u001b[0;34m(\u001b[0m\u001b[0;34m\"Média do F1-Score: \"\u001b[0m\u001b[0;34m,\u001b[0m \u001b[0mf1score\u001b[0m\u001b[0;34m.\u001b[0m\u001b[0mmean\u001b[0m\u001b[0;34m(\u001b[0m\u001b[0;34m)\u001b[0m\u001b[0;34m)\u001b[0m\u001b[0;34m\u001b[0m\u001b[0;34m\u001b[0m\u001b[0m\n\u001b[1;32m      5\u001b[0m     \u001b[0mprint\u001b[0m\u001b[0;34m(\u001b[0m\u001b[0;34m\"Desvio Padrão do F1-Score: \"\u001b[0m\u001b[0;34m,\u001b[0m \u001b[0mf1score\u001b[0m\u001b[0;34m.\u001b[0m\u001b[0mstd\u001b[0m\u001b[0;34m(\u001b[0m\u001b[0;34m)\u001b[0m\u001b[0;34m)\u001b[0m\u001b[0;34m\u001b[0m\u001b[0;34m\u001b[0m\u001b[0m\n",
            "\u001b[0;31mAttributeError\u001b[0m: 'list' object has no attribute 'mean'"
          ]
        }
      ]
    },
    {
      "cell_type": "code",
      "metadata": {
        "id": "gS8xxPI8j92U"
      },
      "source": [
        "# Treino da rede neural multilayer(RNM) // Repetido 10 vezes e utilizando o otimizador SGD. \n",
        "solver= 'sgd'\n",
        "treino_100_rep(solver)"
      ],
      "execution_count": null,
      "outputs": []
    },
    {
      "cell_type": "code",
      "metadata": {
        "id": "vxQoCFqvj92Y"
      },
      "source": [
        ""
      ],
      "execution_count": null,
      "outputs": []
    },
    {
      "cell_type": "markdown",
      "metadata": {
        "id": "DvsLnOoij92c"
      },
      "source": [
        "## Discussão\n",
        "\n",
        "Nos passos anteriores, você avaliou o desempenho de uma única rede neural que contém os seguintes parâmetros: uma única camada oculta com 10 neurônios e função de ativação ReLU. O otimizador utilizado, quer seja SGD ou ADAM, trata-se do algoritmo para aproximar o gradiente do erro. Neste sentido, a escolha do otimizador é um hiperparâmetro, pois diz respeito a como a rede neural definida previamente atuará \"em tempo de execução\"  durante o processo de treinamento. Também são hiperparâmetros a quantidade de épocas, a taxa de aprendizado inicial, dentre outros.\n",
        "\n",
        "Cabe alientar também que você efetuou o treinamento desta rede por 100 vezes e apresentou os resultados em termos de média +- desvio padrão. Lembre-se que em uma rede neural há a inicialização aleatória de pesos e, em consequência, o desempenho delas está sujeito à uma flutuação estocástica. A execução destas múltiplas vezes faz com que eliminemos algum viés introduzido por uma boa ou má \"sorte\" na escolha de pesos no caso de uma única execução.\n",
        "\n",
        "Você também aprendeu uma estratégia para escalonar os atributos para uma melhor convergência da rede. Utilize-a em todos os treinamentos e testes propostos a seguir.\n",
        "\n",
        "## Propondo Novas Arquiteturas\n",
        "\n",
        "Variando  os parâmetros (uma ou duas camadas ocultas, com diferente números de neurônios em cada uma delas e a função de ativação) e o hiperparâmetros solver (Adam ou SGD) e o número de épocas (100,150 e 200), atenda ao que se pede:\n",
        "\n",
        "1. Proponha 10 arquiteturas distintas de RNAs para o problema em questão, à sua escolha\n",
        "2. Avalie cada uma das arquiteturas perante todos os hiperparâmetros apresentados por 100 vezes\n",
        "3. Como resultado da avaliação, apresente:  \n",
        "    3.1 Top-3 melhores redes no tocante à F-Score e Acurácia  \n",
        "    3.2 Repetição em que houve o melhor desempenho de cada uma dessas redes: ilustre tp, tf, fp e fn  "
      ]
    },
    {
      "cell_type": "code",
      "metadata": {
        "id": "7kuBKSBBuaNQ"
      },
      "source": [
        "# Arquitetura 1\n",
        "epochs=100\n",
        "rnm=MLPClassifier(hidden_layer_sizes= (9,), activation= \"identity\", solver= 'adam', max_iter= epochs, verbose= True)\n",
        "rnm.fit(X_train_std, y_train)\n",
        "\n",
        "# Arquitetura 2\n",
        "epochs=150\n",
        "rnm=MLPClassifier(hidden_layer_sizes= (8,), activation= \"identity\", solver= 'sgd', max_iter= epochs, verbose= True)\n",
        "rnm.fit(X_train_std, y_train)\n",
        "\n",
        "# Arquitetura 3\n",
        "epochs=200\n",
        "rnm=MLPClassifier(hidden_layer_sizes= (7,), activation= \"identity\", solver= 'adam', max_iter= epochs, verbose= True)\n",
        "rnm.fit(X_train_std, y_train)\n",
        "\n",
        "# Arquitetura 4\n",
        "epochs=100\n",
        "rnm=MLPClassifier(hidden_layer_sizes= (6,), activation= \"logistic\", solver= 'adam', max_iter= epochs, verbose= True)\n",
        "rnm.fit(X_train_std, y_train)\n",
        "\n",
        "# Arquitetura 5\n",
        "epochs=150\n",
        "rnm=MLPClassifier(hidden_layer_sizes= (5,), activation= \"logistic\", solver= 'sgd', max_iter= epochs, verbose= True)\n",
        "rnm.fit(X_train_std, y_train)\n",
        "\n",
        "# Arquitetura 6\n",
        "epochs=200\n",
        "rnm=MLPClassifier(hidden_layer_sizes= (4,), activation= \"logistic\", solver= 'adam', max_iter= epochs, verbose= True)\n",
        "rnm.fit(X_train_std, y_train)\n",
        "\n",
        "# Arquitetura 7\n",
        "epochs=100\n",
        "rnm=MLPClassifier(hidden_layer_sizes= (3,), activation= \"tanh\", solver= 'adam', max_iter= epochs, verbose= True)\n",
        "rnm.fit(X_train_std, y_train)\n",
        "\n",
        "# Arquitetura 8\n",
        "epochs=150\n",
        "rnm=MLPClassifier(hidden_layer_sizes= (2,), activation= \"tanh\", solver= 'sgd', max_iter= epochs, verbose= True)\n",
        "rnm.fit(X_train_std, y_train)\n",
        "\n",
        "# Arquitetura 9\n",
        "epochs=200\n",
        "rnm=MLPClassifier(hidden_layer_sizes= (1,), activation= \"tanh\", solver= 'adam', max_iter= epochs, verbose= True)\n",
        "rnm.fit(X_train_std, y_train)\n",
        "\n",
        "# Arquitetura 10\n",
        "epochs=100\n",
        "rnm=MLPClassifier(hidden_layer_sizes= (11,), activation= \"relu\", solver= 'sgd', max_iter= epochs, verbose= True)\n",
        "rnm.fit(X_train_std, y_train)\n",
        "\n",
        "\n",
        "\n",
        "\n"
      ],
      "execution_count": null,
      "outputs": []
    },
    {
      "cell_type": "code",
      "metadata": {
        "id": "Slbmu5h7j92d"
      },
      "source": [
        "#possibilidades >>> solver:{‘lbfgs’, ‘sgd’, ‘adam’}  ; activation: {‘identity’, ‘logistic’, ‘tanh’, ‘relu’} dentre outras"
      ],
      "execution_count": null,
      "outputs": []
    },
    {
      "cell_type": "markdown",
      "metadata": {
        "id": "DQnXH_3Bj92g"
      },
      "source": [
        "## Estimando o número de neurônios\n",
        "\n",
        "Um dos problemas de pesquisa com redes neurais artificiais consiste na determinação do número de neurônios em sua arquitetura. Embora não seja possível definir a priori qual rede neural é adequada para um problema, pois isto só é possível mediante uma busca exaustiva, há regras na literatura que sugerem o número de neurônios escondidos, tal como a regra da Pirâmide Geométrica, dada a seguir:\n",
        "\n",
        "$$N_h = \\alpha \\cdot \\sqrt{N_i \\cdot N_o},$$\n",
        "\n",
        "em que $N_h$ é o número de neurônios ocultos (a serem distribuídos em uma ou duas camadas ocultas), $N_i$ é o número de neurônios na camada de entrada e $N_o$ é o número de neurônios na camada de saída. \n",
        "\n",
        "1. Consulte a documentação da classe MLPClassifier (disponível em https://scikit-learn.org/stable/modules/generated/sklearn.neural_network.MLPClassifier.html) e obtenha os valores de $N_i$ e $N_h$.\n",
        "2. Teste os valores de $\\alpha$ como sendo iguais a $0.5$, $2$ e $3$.\n",
        "3. Proponha pelo menos 30 redes neurais segundo a regra da pirâmide geométrica e teste-as nos mesmos termos estabelecidos anterioremente  (solver, épocas, etc.)  \n",
        "    3.1 Apresente as top-3 melhores redes no tocante à F-Score e Acurácia  "
      ]
    },
    {
      "cell_type": "code",
      "metadata": {
        "id": "oAbEFh9wj92g"
      },
      "source": [
        ""
      ],
      "execution_count": null,
      "outputs": []
    },
    {
      "cell_type": "markdown",
      "metadata": {
        "id": "zOWo4mBij92k"
      },
      "source": [
        "## Testando as Redes Neurais com Atributos Categóricos\n",
        "\n",
        "1. Considere as 6 redes neurais obtidas nos dois top-3 anteriores (arquiteturas próprias e regra da pirâmide geométrica)\n",
        "2. Com todos os atributos preditores da base de dados original, incluindo os categóricos, treine e teste estas mesmas redes por 100 repetições  \n",
        "    2.1 Considere o melhor otimizador para cada uma delas  \n",
        "    2.2 Faça uso de 200 épocas para treinamento  \n",
        "    2.2 Apresente os resultados de acurácia e F-Score em termos da média +- dp para cada arquitetura\n",
        "3. Apresente o gráfico boxplot para o F-Score das 6 arquiteturas perante as 100 repetições"
      ]
    },
    {
      "cell_type": "code",
      "metadata": {
        "id": "0XTamdI7j92k"
      },
      "source": [
        ""
      ],
      "execution_count": null,
      "outputs": []
    },
    {
      "cell_type": "markdown",
      "metadata": {
        "id": "dkKbQ751j92n"
      },
      "source": [
        "## Considerações Parciais\n",
        "\n",
        "1. É possível identificar uma rede com desempenho superior às demais?\n",
        "2. Qual estratégia mostrou-se mais producente para a obtenção de boas arquiteturas (Estratégia Própria ou Pirâmide Geométrica)? Por quê?\n",
        "3. Considerar os atributos categóricos trouxe melhorias? Justifique.\n",
        "4. Um número maior de épocas trouxe melhorias?\n",
        "5. Qual a maior dificuldade de resolução do problema proposto perante as RNAs?"
      ]
    },
    {
      "cell_type": "code",
      "metadata": {
        "id": "siXTPM7yj92o"
      },
      "source": [
        ""
      ],
      "execution_count": null,
      "outputs": []
    }
  ]
}