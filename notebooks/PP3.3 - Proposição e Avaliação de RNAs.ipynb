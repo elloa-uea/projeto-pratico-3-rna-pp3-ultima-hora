{
 "cells": [
  {
   "cell_type": "markdown",
   "metadata": {},
   "source": [
    "## Redes Neurais Artificiais 2020.1\n",
    "\n",
    "**Disciplina**: Redes Neurais Artificiais 2020.1  \n",
    "**Professora**: Elloá B. Guedes (ebgcosta@uea.edu.br)  \n",
    "**Github**: http://github.com/elloa  \n",
    "        \n",
    "\n",
    "Levando em conta a base de dados **_Forest Cover Type_**, esta terceira parte do Projeto Prático 3 diz respeito à proposição e avaliação de múltiplas redes neurais artificiais do tipo feedforward multilayer perceptron para o problema da classificação multi-classe da cobertura florestal em uma área do Roosevelt National Forest.\n",
    "\n",
    "## Testando Redes Neurais sem os Atributos Categórios\n",
    "\n",
    "1. Abra a base de dados em questão\n",
    "2. Elimine todas as colunas relativas aos atributos categóricos\n",
    "3. Armazene o atributo alvo em uma variável y e os atributos preditores em uma variável X\n",
    "4. Efetue uma partição holdout 70/30 com o sklearn, distribuindo os exemplos de maneira aleatória\n",
    "5. Efetue o escalonamento dos atributos\n",
    "\n",
    "### Escalonando os atributos\n",
    "\n",
    "O treinamento de uma rede neural artificial é mais eficiente quando os valores que lhes são fornecidos como entrada são pequenos, pois isto favorece a convergência. Isto é feito escalonando-se todos os atributos para o intervalo [0,1], mas precisa ser feito de maneira cautelosa, para que informações do conjunto de teste não sejam fornecidas no treinamento.\n",
    "\n",
    "Há duas estratégias para tal escalonamento: normalização e padronização. Ambas possuem características particulares, vantagens e limitações, como é possível ver aqui: https://www.analyticsvidhya.com/blog/2020/04/feature-scaling-machine-learning-normalization-standardization/\n",
    "\n",
    "\n",
    "No nosso caso, vamos usar a padronização. Assim, com os atributos preditores do treinamento, isto é, X_train, deve-se subtrair a média e dividir pelo desvio padrão:\n",
    "\n",
    "X_train_std = (X_train - np.mean(X_train))/np.std(X_train)\n",
    "\n",
    "Em seguida, o mesmo deve ser feito com os atributos preditores do conjunto de testes, mas com padronização relativa ao conjunto de treinamento:\n",
    "\n",
    "X_test_std = (X_test - np.mean(X_train))/np.std(X_train)\n",
    "\n",
    "Se todo o conjunto X for utilizado na padronização, a rede neural receberá informações do conjunto de teste por meio da média e variância utilizada para preparar os dados de treinamento, o que não é desejável.\n",
    "\n",
    "\n",
    "### Continuando\n",
    "\n",
    "5. Treine uma rede neural multilayer perceptron para este problema com uma única camada e dez neurônios  \n",
    "    5.1 Utilize a função de ativação ReLU  \n",
    "    5.2 Utilize o solver Adam    \n",
    "    5.3 Imprima o passo a passo do treinamento    \n",
    "    5.4 Utilize o número máximo de épocas igual a 300  \n",
    "6. Com o modelo em questão, após o treinamento, apresente:  \n",
    "    6.1 Matriz de confusão para o conjunto de teste  \n",
    "    6.2 Acurácia  \n",
    "    6.3 F-Score  \n",
    "    6.4 Precisão  \n",
    "    6.5 Revocação  \n",
    "7. Repita o treinamento da mesma rede anterior sem imprimir o passo a passo (verbose False) por 100 vezes  \n",
    "    7.1 Cada uma destas repetições deve ser feita com uma nova partição Holdout  \n",
    "    7.2 Apresente a média e o desvio padrão da acurácia e do F-Score para o conjunto de treino  \n",
    "8. Repita por 100 vezes o treinamento desta mesma rede, mas utilizando o otimizador SGD  \n",
    "    8.1 Apresente a média e o desvio padrão da acurácia e do F-Score para o conjunto de treino  \n",
    "9. Houve influência da escolha do otimizador no desempenho da rede?"
   ]
  },
  {
   "cell_type": "code",
   "execution_count": 1,
   "metadata": {},
   "outputs": [],
   "source": [
    "## Reservado para a importação de bibliotecas\n",
    "import numpy as np\n",
    "import pandas as pd\n",
    "from matplotlib import pyplot as plt\n",
    "from sklearn.model_selection import train_test_split\n",
    "from sklearn.neural_network import MLPClassifier\n",
    "from sklearn.metrics import confusion_matrix, precision_score, f1_score, recall_score, accuracy_score\n",
    "import seaborn as sns"
   ]
  },
  {
   "cell_type": "code",
   "execution_count": 2,
   "metadata": {},
   "outputs": [],
   "source": [
    "#abrindo arquivo\n",
    "df = pd.read_csv('covtype.csv')"
   ]
  },
  {
   "cell_type": "code",
   "execution_count": 3,
   "metadata": {},
   "outputs": [],
   "source": [
    "#eliminando todos os atributos categóricos('Wilderness_Area' e 'Soil_Type'), geramos o 'df_sac' (dataframe sem atributos categóricos)\n",
    "\n",
    "for i in range(4):\n",
    "    df_sac = df.drop([('Wilderness_Area' + str(i+1))], axis = 1)\n",
    "for i in range(40):\n",
    "    df_sac = df.drop([('Soil_Type' + str(i+1))], axis = 1)\n",
    "\n",
    "# X = atributos preditores \n",
    "x = df_sac.drop(['Cover_Type'],axis = 1)\n",
    "# Y = atributo alvo\n",
    "y = df_sac['Cover_Type']\n",
    "\n",
    "#particionar\n",
    "x_train, x_test, y_train, y_test = train_test_split(x, y, test_size = 0.3)"
   ]
  },
  {
   "cell_type": "code",
   "execution_count": 4,
   "metadata": {},
   "outputs": [],
   "source": [
    "#escalonamento\n",
    "X_train_std = (x_train - np.mean(x_train))/np.std(x_train)\n",
    "X_test_std = (x_test - np.mean(x_train))/np.std(x_train)"
   ]
  },
  {
   "cell_type": "code",
   "execution_count": 5,
   "metadata": {},
   "outputs": [
    {
     "output_type": "stream",
     "name": "stdout",
     "text": [
      "Iteration 1, loss = 0.79747416\n",
      "Iteration 2, loss = 0.63760022\n",
      "Iteration 3, loss = 0.61778516\n",
      "Iteration 4, loss = 0.60942861\n",
      "Iteration 5, loss = 0.60474548\n",
      "Iteration 6, loss = 0.60131874\n",
      "Iteration 7, loss = 0.59877313\n",
      "Iteration 8, loss = 0.59632803\n",
      "Iteration 9, loss = 0.59408225\n",
      "Iteration 10, loss = 0.59226350\n",
      "Iteration 11, loss = 0.59101109\n",
      "Iteration 12, loss = 0.58965683\n",
      "Iteration 13, loss = 0.58833624\n",
      "Iteration 14, loss = 0.58746150\n",
      "Iteration 15, loss = 0.58658108\n",
      "Iteration 16, loss = 0.58533970\n",
      "Iteration 17, loss = 0.58390282\n",
      "Iteration 18, loss = 0.58279432\n",
      "Iteration 19, loss = 0.58177565\n",
      "Iteration 20, loss = 0.58085220\n",
      "Iteration 21, loss = 0.58007141\n",
      "Iteration 22, loss = 0.57944998\n",
      "Iteration 23, loss = 0.57883811\n",
      "Iteration 24, loss = 0.57840332\n",
      "Iteration 25, loss = 0.57785778\n",
      "Iteration 26, loss = 0.57751825\n",
      "Iteration 27, loss = 0.57701878\n",
      "Iteration 28, loss = 0.57660933\n",
      "Iteration 29, loss = 0.57570471\n",
      "Iteration 30, loss = 0.57527573\n",
      "Iteration 31, loss = 0.57497769\n",
      "Iteration 32, loss = 0.57432015\n",
      "Iteration 33, loss = 0.57396509\n",
      "Iteration 34, loss = 0.57354152\n",
      "Iteration 35, loss = 0.57343895\n",
      "Iteration 36, loss = 0.57309859\n",
      "Iteration 37, loss = 0.57309873\n",
      "Iteration 38, loss = 0.57293610\n",
      "Iteration 39, loss = 0.57268526\n",
      "Iteration 40, loss = 0.57263245\n",
      "Iteration 41, loss = 0.57234898\n",
      "Iteration 42, loss = 0.57217125\n",
      "Iteration 43, loss = 0.57206958\n",
      "Iteration 44, loss = 0.57195847\n",
      "Iteration 45, loss = 0.57204236\n",
      "Iteration 46, loss = 0.57193376\n",
      "Iteration 47, loss = 0.57175283\n",
      "Iteration 48, loss = 0.57172614\n",
      "Iteration 49, loss = 0.57140241\n",
      "Iteration 50, loss = 0.57132241\n",
      "Iteration 51, loss = 0.57130444\n",
      "Iteration 52, loss = 0.57113433\n",
      "Iteration 53, loss = 0.57118177\n",
      "Iteration 54, loss = 0.57109183\n",
      "Iteration 55, loss = 0.57113658\n",
      "Iteration 56, loss = 0.57110512\n",
      "Iteration 57, loss = 0.57098973\n",
      "Iteration 58, loss = 0.57096385\n",
      "Iteration 59, loss = 0.57080300\n",
      "Iteration 60, loss = 0.57081731\n",
      "Iteration 61, loss = 0.57071304\n",
      "Iteration 62, loss = 0.57034488\n",
      "Iteration 63, loss = 0.57004021\n",
      "Iteration 64, loss = 0.56988453\n",
      "Iteration 65, loss = 0.56966172\n",
      "Iteration 66, loss = 0.56940868\n",
      "Iteration 67, loss = 0.56941197\n",
      "Iteration 68, loss = 0.56925954\n",
      "Iteration 69, loss = 0.56918258\n",
      "Iteration 70, loss = 0.56908978\n",
      "Iteration 71, loss = 0.56913987\n",
      "Iteration 72, loss = 0.56898328\n",
      "Iteration 73, loss = 0.56840977\n",
      "Iteration 74, loss = 0.56829459\n",
      "Iteration 75, loss = 0.56804210\n",
      "Iteration 76, loss = 0.56809627\n",
      "Iteration 77, loss = 0.56821265\n",
      "Iteration 78, loss = 0.56819220\n",
      "Iteration 79, loss = 0.56822246\n",
      "Iteration 80, loss = 0.56796332\n",
      "Iteration 81, loss = 0.56802617\n",
      "Iteration 82, loss = 0.56817075\n",
      "Iteration 83, loss = 0.56810406\n",
      "Iteration 84, loss = 0.56800723\n",
      "Iteration 85, loss = 0.56809644\n",
      "Iteration 86, loss = 0.56796220\n",
      "Training loss did not improve more than tol=0.000100 for 10 consecutive epochs. Stopping.\n"
     ]
    },
    {
     "output_type": "execute_result",
     "data": {
      "text/plain": [
       "MLPClassifier(hidden_layer_sizes=(10,), max_iter=300, verbose=True)"
      ]
     },
     "metadata": {},
     "execution_count": 5
    }
   ],
   "source": [
    "# Treino da rede neural multilayer(RNM)\n",
    "epochs=300\n",
    "rnm=MLPClassifier(hidden_layer_sizes= (10,), activation= \"relu\", solver= 'adam', max_iter= epochs, verbose= True)\n",
    "rnm.fit(X_train_std, y_train)"
   ]
  },
  {
   "cell_type": "code",
   "execution_count": 6,
   "metadata": {},
   "outputs": [
    {
     "output_type": "execute_result",
     "data": {
      "text/plain": [
       "<AxesSubplot:title={'center':'Matriz de Confusão'}>"
      ]
     },
     "metadata": {},
     "execution_count": 6
    },
    {
     "output_type": "display_data",
     "data": {
      "text/plain": "<Figure size 864x432 with 2 Axes>",
      "image/svg+xml": "<?xml version=\"1.0\" encoding=\"utf-8\" standalone=\"no\"?>\r\n<!DOCTYPE svg PUBLIC \"-//W3C//DTD SVG 1.1//EN\"\r\n  \"http://www.w3.org/Graphics/SVG/1.1/DTD/svg11.dtd\">\r\n<!-- Created with matplotlib (https://matplotlib.org/) -->\r\n<svg height=\"372.35625pt\" version=\"1.1\" viewBox=\"0 0 655.358625 372.35625\" width=\"655.358625pt\" xmlns=\"http://www.w3.org/2000/svg\" xmlns:xlink=\"http://www.w3.org/1999/xlink\">\r\n <metadata>\r\n  <rdf:RDF xmlns:cc=\"http://creativecommons.org/ns#\" xmlns:dc=\"http://purl.org/dc/elements/1.1/\" xmlns:rdf=\"http://www.w3.org/1999/02/22-rdf-syntax-ns#\">\r\n   <cc:Work>\r\n    <dc:type rdf:resource=\"http://purl.org/dc/dcmitype/StillImage\"/>\r\n    <dc:date>2020-11-02T05:02:09.576961</dc:date>\r\n    <dc:format>image/svg+xml</dc:format>\r\n    <dc:creator>\r\n     <cc:Agent>\r\n      <dc:title>Matplotlib v3.3.1, https://matplotlib.org/</dc:title>\r\n     </cc:Agent>\r\n    </dc:creator>\r\n   </cc:Work>\r\n  </rdf:RDF>\r\n </metadata>\r\n <defs>\r\n  <style type=\"text/css\">*{stroke-linecap:butt;stroke-linejoin:round;}</style>\r\n </defs>\r\n <g id=\"figure_1\">\r\n  <g id=\"patch_1\">\r\n   <path d=\"M 0 372.35625 \r\nL 655.358625 372.35625 \r\nL 655.358625 0 \r\nL 0 0 \r\nz\r\n\" style=\"fill:none;\"/>\r\n  </g>\r\n  <g id=\"axes_1\">\r\n   <g id=\"patch_2\">\r\n    <path d=\"M 23.878125 348.478125 \r\nL 559.558125 348.478125 \r\nL 559.558125 22.318125 \r\nL 23.878125 22.318125 \r\nz\r\n\" style=\"fill:#ffffff;\"/>\r\n   </g>\r\n   <g id=\"QuadMesh_1\">\r\n    <path clip-path=\"url(#p7bd7c1bb40)\" d=\"M 23.878125 22.318125 \r\nL 100.403839 22.318125 \r\nL 100.403839 68.912411 \r\nL 23.878125 68.912411 \r\nL 23.878125 22.318125 \r\n\" style=\"fill:#de2b25;\"/>\r\n    <path clip-path=\"url(#p7bd7c1bb40)\" d=\"M 100.403839 22.318125 \r\nL 176.929554 22.318125 \r\nL 176.929554 68.912411 \r\nL 100.403839 68.912411 \r\nL 100.403839 22.318125 \r\n\" style=\"fill:#fdc5ae;\"/>\r\n    <path clip-path=\"url(#p7bd7c1bb40)\" d=\"M 176.929554 22.318125 \r\nL 253.455268 22.318125 \r\nL 253.455268 68.912411 \r\nL 176.929554 68.912411 \r\nL 176.929554 22.318125 \r\n\" style=\"fill:#fff5f0;\"/>\r\n    <path clip-path=\"url(#p7bd7c1bb40)\" d=\"M 253.455268 22.318125 \r\nL 329.980982 22.318125 \r\nL 329.980982 68.912411 \r\nL 253.455268 68.912411 \r\nL 253.455268 22.318125 \r\n\" style=\"fill:#fff5f0;\"/>\r\n    <path clip-path=\"url(#p7bd7c1bb40)\" d=\"M 329.980982 22.318125 \r\nL 406.506696 22.318125 \r\nL 406.506696 68.912411 \r\nL 329.980982 68.912411 \r\nL 329.980982 22.318125 \r\n\" style=\"fill:#fff5f0;\"/>\r\n    <path clip-path=\"url(#p7bd7c1bb40)\" d=\"M 406.506696 22.318125 \r\nL 483.032411 22.318125 \r\nL 483.032411 68.912411 \r\nL 406.506696 68.912411 \r\nL 406.506696 22.318125 \r\n\" style=\"fill:#fff5f0;\"/>\r\n    <path clip-path=\"url(#p7bd7c1bb40)\" d=\"M 483.032411 22.318125 \r\nL 559.558125 22.318125 \r\nL 559.558125 68.912411 \r\nL 483.032411 68.912411 \r\nL 483.032411 22.318125 \r\n\" style=\"fill:#fff4ee;\"/>\r\n    <path clip-path=\"url(#p7bd7c1bb40)\" d=\"M 23.878125 68.912411 \r\nL 100.403839 68.912411 \r\nL 100.403839 115.506696 \r\nL 23.878125 115.506696 \r\nL 23.878125 68.912411 \r\n\" style=\"fill:#fdcbb6;\"/>\r\n    <path clip-path=\"url(#p7bd7c1bb40)\" d=\"M 100.403839 68.912411 \r\nL 176.929554 68.912411 \r\nL 176.929554 115.506696 \r\nL 100.403839 115.506696 \r\nL 100.403839 68.912411 \r\n\" style=\"fill:#67000d;\"/>\r\n    <path clip-path=\"url(#p7bd7c1bb40)\" d=\"M 176.929554 68.912411 \r\nL 253.455268 68.912411 \r\nL 253.455268 115.506696 \r\nL 176.929554 115.506696 \r\nL 176.929554 68.912411 \r\n\" style=\"fill:#fff4ee;\"/>\r\n    <path clip-path=\"url(#p7bd7c1bb40)\" d=\"M 253.455268 68.912411 \r\nL 329.980982 68.912411 \r\nL 329.980982 115.506696 \r\nL 253.455268 115.506696 \r\nL 253.455268 68.912411 \r\n\" style=\"fill:#fff5f0;\"/>\r\n    <path clip-path=\"url(#p7bd7c1bb40)\" d=\"M 329.980982 68.912411 \r\nL 406.506696 68.912411 \r\nL 406.506696 115.506696 \r\nL 329.980982 115.506696 \r\nL 329.980982 68.912411 \r\n\" style=\"fill:#fff5f0;\"/>\r\n    <path clip-path=\"url(#p7bd7c1bb40)\" d=\"M 406.506696 68.912411 \r\nL 483.032411 68.912411 \r\nL 483.032411 115.506696 \r\nL 406.506696 115.506696 \r\nL 406.506696 68.912411 \r\n\" style=\"fill:#fff4ee;\"/>\r\n    <path clip-path=\"url(#p7bd7c1bb40)\" d=\"M 483.032411 68.912411 \r\nL 559.558125 68.912411 \r\nL 559.558125 115.506696 \r\nL 483.032411 115.506696 \r\nL 483.032411 68.912411 \r\n\" style=\"fill:#fff5f0;\"/>\r\n    <path clip-path=\"url(#p7bd7c1bb40)\" d=\"M 23.878125 115.506696 \r\nL 100.403839 115.506696 \r\nL 100.403839 162.100982 \r\nL 23.878125 162.100982 \r\nL 23.878125 115.506696 \r\n\" style=\"fill:#fff5f0;\"/>\r\n    <path clip-path=\"url(#p7bd7c1bb40)\" d=\"M 100.403839 115.506696 \r\nL 176.929554 115.506696 \r\nL 176.929554 162.100982 \r\nL 100.403839 162.100982 \r\nL 100.403839 115.506696 \r\n\" style=\"fill:#fff3ed;\"/>\r\n    <path clip-path=\"url(#p7bd7c1bb40)\" d=\"M 176.929554 115.506696 \r\nL 253.455268 115.506696 \r\nL 253.455268 162.100982 \r\nL 176.929554 162.100982 \r\nL 176.929554 115.506696 \r\n\" style=\"fill:#fee0d2;\"/>\r\n    <path clip-path=\"url(#p7bd7c1bb40)\" d=\"M 253.455268 115.506696 \r\nL 329.980982 115.506696 \r\nL 329.980982 162.100982 \r\nL 253.455268 162.100982 \r\nL 253.455268 115.506696 \r\n\" style=\"fill:#fff5f0;\"/>\r\n    <path clip-path=\"url(#p7bd7c1bb40)\" d=\"M 329.980982 115.506696 \r\nL 406.506696 115.506696 \r\nL 406.506696 162.100982 \r\nL 329.980982 162.100982 \r\nL 329.980982 115.506696 \r\n\" style=\"fill:#fff5f0;\"/>\r\n    <path clip-path=\"url(#p7bd7c1bb40)\" d=\"M 406.506696 115.506696 \r\nL 483.032411 115.506696 \r\nL 483.032411 162.100982 \r\nL 406.506696 162.100982 \r\nL 406.506696 115.506696 \r\n\" style=\"fill:#fff4ee;\"/>\r\n    <path clip-path=\"url(#p7bd7c1bb40)\" d=\"M 483.032411 115.506696 \r\nL 559.558125 115.506696 \r\nL 559.558125 162.100982 \r\nL 483.032411 162.100982 \r\nL 483.032411 115.506696 \r\n\" style=\"fill:#fff5f0;\"/>\r\n    <path clip-path=\"url(#p7bd7c1bb40)\" d=\"M 23.878125 162.100982 \r\nL 100.403839 162.100982 \r\nL 100.403839 208.695268 \r\nL 23.878125 208.695268 \r\nL 23.878125 162.100982 \r\n\" style=\"fill:#fff5f0;\"/>\r\n    <path clip-path=\"url(#p7bd7c1bb40)\" d=\"M 100.403839 162.100982 \r\nL 176.929554 162.100982 \r\nL 176.929554 208.695268 \r\nL 100.403839 208.695268 \r\nL 100.403839 162.100982 \r\n\" style=\"fill:#fff5f0;\"/>\r\n    <path clip-path=\"url(#p7bd7c1bb40)\" d=\"M 176.929554 162.100982 \r\nL 253.455268 162.100982 \r\nL 253.455268 208.695268 \r\nL 176.929554 208.695268 \r\nL 176.929554 162.100982 \r\n\" style=\"fill:#fff4ef;\"/>\r\n    <path clip-path=\"url(#p7bd7c1bb40)\" d=\"M 253.455268 162.100982 \r\nL 329.980982 162.100982 \r\nL 329.980982 208.695268 \r\nL 253.455268 208.695268 \r\nL 253.455268 162.100982 \r\n\" style=\"fill:#fff4ef;\"/>\r\n    <path clip-path=\"url(#p7bd7c1bb40)\" d=\"M 329.980982 162.100982 \r\nL 406.506696 162.100982 \r\nL 406.506696 208.695268 \r\nL 329.980982 208.695268 \r\nL 329.980982 162.100982 \r\n\" style=\"fill:#fff5f0;\"/>\r\n    <path clip-path=\"url(#p7bd7c1bb40)\" d=\"M 406.506696 162.100982 \r\nL 483.032411 162.100982 \r\nL 483.032411 208.695268 \r\nL 406.506696 208.695268 \r\nL 406.506696 162.100982 \r\n\" style=\"fill:#fff5f0;\"/>\r\n    <path clip-path=\"url(#p7bd7c1bb40)\" d=\"M 483.032411 162.100982 \r\nL 559.558125 162.100982 \r\nL 559.558125 208.695268 \r\nL 483.032411 208.695268 \r\nL 483.032411 162.100982 \r\n\" style=\"fill:#fff5f0;\"/>\r\n    <path clip-path=\"url(#p7bd7c1bb40)\" d=\"M 23.878125 208.695268 \r\nL 100.403839 208.695268 \r\nL 100.403839 255.289554 \r\nL 23.878125 255.289554 \r\nL 23.878125 208.695268 \r\n\" style=\"fill:#fff5f0;\"/>\r\n    <path clip-path=\"url(#p7bd7c1bb40)\" d=\"M 100.403839 208.695268 \r\nL 176.929554 208.695268 \r\nL 176.929554 255.289554 \r\nL 100.403839 255.289554 \r\nL 100.403839 208.695268 \r\n\" style=\"fill:#ffefe8;\"/>\r\n    <path clip-path=\"url(#p7bd7c1bb40)\" d=\"M 176.929554 208.695268 \r\nL 253.455268 208.695268 \r\nL 253.455268 255.289554 \r\nL 176.929554 255.289554 \r\nL 176.929554 208.695268 \r\n\" style=\"fill:#fff5f0;\"/>\r\n    <path clip-path=\"url(#p7bd7c1bb40)\" d=\"M 253.455268 208.695268 \r\nL 329.980982 208.695268 \r\nL 329.980982 255.289554 \r\nL 253.455268 255.289554 \r\nL 253.455268 208.695268 \r\n\" style=\"fill:#fff5f0;\"/>\r\n    <path clip-path=\"url(#p7bd7c1bb40)\" d=\"M 329.980982 208.695268 \r\nL 406.506696 208.695268 \r\nL 406.506696 255.289554 \r\nL 329.980982 255.289554 \r\nL 329.980982 208.695268 \r\n\" style=\"fill:#fff5f0;\"/>\r\n    <path clip-path=\"url(#p7bd7c1bb40)\" d=\"M 406.506696 208.695268 \r\nL 483.032411 208.695268 \r\nL 483.032411 255.289554 \r\nL 406.506696 255.289554 \r\nL 406.506696 208.695268 \r\n\" style=\"fill:#fff5f0;\"/>\r\n    <path clip-path=\"url(#p7bd7c1bb40)\" d=\"M 483.032411 208.695268 \r\nL 559.558125 208.695268 \r\nL 559.558125 255.289554 \r\nL 483.032411 255.289554 \r\nL 483.032411 208.695268 \r\n\" style=\"fill:#fff5f0;\"/>\r\n    <path clip-path=\"url(#p7bd7c1bb40)\" d=\"M 23.878125 255.289554 \r\nL 100.403839 255.289554 \r\nL 100.403839 301.883839 \r\nL 23.878125 301.883839 \r\nL 23.878125 255.289554 \r\n\" style=\"fill:#fff5f0;\"/>\r\n    <path clip-path=\"url(#p7bd7c1bb40)\" d=\"M 100.403839 255.289554 \r\nL 176.929554 255.289554 \r\nL 176.929554 301.883839 \r\nL 100.403839 301.883839 \r\nL 100.403839 255.289554 \r\n\" style=\"fill:#fff3ed;\"/>\r\n    <path clip-path=\"url(#p7bd7c1bb40)\" d=\"M 176.929554 255.289554 \r\nL 253.455268 255.289554 \r\nL 253.455268 301.883839 \r\nL 176.929554 301.883839 \r\nL 176.929554 255.289554 \r\n\" style=\"fill:#ffefe8;\"/>\r\n    <path clip-path=\"url(#p7bd7c1bb40)\" d=\"M 253.455268 255.289554 \r\nL 329.980982 255.289554 \r\nL 329.980982 301.883839 \r\nL 253.455268 301.883839 \r\nL 253.455268 255.289554 \r\n\" style=\"fill:#fff5f0;\"/>\r\n    <path clip-path=\"url(#p7bd7c1bb40)\" d=\"M 329.980982 255.289554 \r\nL 406.506696 255.289554 \r\nL 406.506696 301.883839 \r\nL 329.980982 301.883839 \r\nL 329.980982 255.289554 \r\n\" style=\"fill:#fff5f0;\"/>\r\n    <path clip-path=\"url(#p7bd7c1bb40)\" d=\"M 406.506696 255.289554 \r\nL 483.032411 255.289554 \r\nL 483.032411 301.883839 \r\nL 406.506696 301.883839 \r\nL 406.506696 255.289554 \r\n\" style=\"fill:#fff1ea;\"/>\r\n    <path clip-path=\"url(#p7bd7c1bb40)\" d=\"M 483.032411 255.289554 \r\nL 559.558125 255.289554 \r\nL 559.558125 301.883839 \r\nL 483.032411 301.883839 \r\nL 483.032411 255.289554 \r\n\" style=\"fill:#fff5f0;\"/>\r\n    <path clip-path=\"url(#p7bd7c1bb40)\" d=\"M 23.878125 301.883839 \r\nL 100.403839 301.883839 \r\nL 100.403839 348.478125 \r\nL 23.878125 348.478125 \r\nL 23.878125 301.883839 \r\n\" style=\"fill:#fff0e8;\"/>\r\n    <path clip-path=\"url(#p7bd7c1bb40)\" d=\"M 100.403839 301.883839 \r\nL 176.929554 301.883839 \r\nL 176.929554 348.478125 \r\nL 100.403839 348.478125 \r\nL 100.403839 301.883839 \r\n\" style=\"fill:#fff5f0;\"/>\r\n    <path clip-path=\"url(#p7bd7c1bb40)\" d=\"M 176.929554 301.883839 \r\nL 253.455268 301.883839 \r\nL 253.455268 348.478125 \r\nL 176.929554 348.478125 \r\nL 176.929554 301.883839 \r\n\" style=\"fill:#fff5f0;\"/>\r\n    <path clip-path=\"url(#p7bd7c1bb40)\" d=\"M 253.455268 301.883839 \r\nL 329.980982 301.883839 \r\nL 329.980982 348.478125 \r\nL 253.455268 348.478125 \r\nL 253.455268 301.883839 \r\n\" style=\"fill:#fff5f0;\"/>\r\n    <path clip-path=\"url(#p7bd7c1bb40)\" d=\"M 329.980982 301.883839 \r\nL 406.506696 301.883839 \r\nL 406.506696 348.478125 \r\nL 329.980982 348.478125 \r\nL 329.980982 301.883839 \r\n\" style=\"fill:#fff5f0;\"/>\r\n    <path clip-path=\"url(#p7bd7c1bb40)\" d=\"M 406.506696 301.883839 \r\nL 483.032411 301.883839 \r\nL 483.032411 348.478125 \r\nL 406.506696 348.478125 \r\nL 406.506696 301.883839 \r\n\" style=\"fill:#fff5f0;\"/>\r\n    <path clip-path=\"url(#p7bd7c1bb40)\" d=\"M 483.032411 301.883839 \r\nL 559.558125 301.883839 \r\nL 559.558125 348.478125 \r\nL 483.032411 348.478125 \r\nL 483.032411 301.883839 \r\n\" style=\"fill:#ffece3;\"/>\r\n   </g>\r\n   <g id=\"matplotlib.axis_1\">\r\n    <g id=\"xtick_1\">\r\n     <g id=\"line2d_1\">\r\n      <defs>\r\n       <path d=\"M 0 0 \r\nL 0 3.5 \r\n\" id=\"m2eea9d053c\" style=\"stroke:#000000;stroke-width:0.8;\"/>\r\n      </defs>\r\n      <g>\r\n       <use style=\"stroke:#000000;stroke-width:0.8;\" x=\"62.140982\" xlink:href=\"#m2eea9d053c\" y=\"348.478125\"/>\r\n      </g>\r\n     </g>\r\n     <g id=\"text_1\">\r\n      <!-- 0 -->\r\n      <g transform=\"translate(58.959732 363.076563)scale(0.1 -0.1)\">\r\n       <defs>\r\n        <path d=\"M 31.78125 66.40625 \r\nQ 24.171875 66.40625 20.328125 58.90625 \r\nQ 16.5 51.421875 16.5 36.375 \r\nQ 16.5 21.390625 20.328125 13.890625 \r\nQ 24.171875 6.390625 31.78125 6.390625 \r\nQ 39.453125 6.390625 43.28125 13.890625 \r\nQ 47.125 21.390625 47.125 36.375 \r\nQ 47.125 51.421875 43.28125 58.90625 \r\nQ 39.453125 66.40625 31.78125 66.40625 \r\nz\r\nM 31.78125 74.21875 \r\nQ 44.046875 74.21875 50.515625 64.515625 \r\nQ 56.984375 54.828125 56.984375 36.375 \r\nQ 56.984375 17.96875 50.515625 8.265625 \r\nQ 44.046875 -1.421875 31.78125 -1.421875 \r\nQ 19.53125 -1.421875 13.0625 8.265625 \r\nQ 6.59375 17.96875 6.59375 36.375 \r\nQ 6.59375 54.828125 13.0625 64.515625 \r\nQ 19.53125 74.21875 31.78125 74.21875 \r\nz\r\n\" id=\"DejaVuSans-48\"/>\r\n       </defs>\r\n       <use xlink:href=\"#DejaVuSans-48\"/>\r\n      </g>\r\n     </g>\r\n    </g>\r\n    <g id=\"xtick_2\">\r\n     <g id=\"line2d_2\">\r\n      <g>\r\n       <use style=\"stroke:#000000;stroke-width:0.8;\" x=\"138.666696\" xlink:href=\"#m2eea9d053c\" y=\"348.478125\"/>\r\n      </g>\r\n     </g>\r\n     <g id=\"text_2\">\r\n      <!-- 1 -->\r\n      <g transform=\"translate(135.485446 363.076563)scale(0.1 -0.1)\">\r\n       <defs>\r\n        <path d=\"M 12.40625 8.296875 \r\nL 28.515625 8.296875 \r\nL 28.515625 63.921875 \r\nL 10.984375 60.40625 \r\nL 10.984375 69.390625 \r\nL 28.421875 72.90625 \r\nL 38.28125 72.90625 \r\nL 38.28125 8.296875 \r\nL 54.390625 8.296875 \r\nL 54.390625 0 \r\nL 12.40625 0 \r\nz\r\n\" id=\"DejaVuSans-49\"/>\r\n       </defs>\r\n       <use xlink:href=\"#DejaVuSans-49\"/>\r\n      </g>\r\n     </g>\r\n    </g>\r\n    <g id=\"xtick_3\">\r\n     <g id=\"line2d_3\">\r\n      <g>\r\n       <use style=\"stroke:#000000;stroke-width:0.8;\" x=\"215.192411\" xlink:href=\"#m2eea9d053c\" y=\"348.478125\"/>\r\n      </g>\r\n     </g>\r\n     <g id=\"text_3\">\r\n      <!-- 2 -->\r\n      <g transform=\"translate(212.011161 363.076563)scale(0.1 -0.1)\">\r\n       <defs>\r\n        <path d=\"M 19.1875 8.296875 \r\nL 53.609375 8.296875 \r\nL 53.609375 0 \r\nL 7.328125 0 \r\nL 7.328125 8.296875 \r\nQ 12.9375 14.109375 22.625 23.890625 \r\nQ 32.328125 33.6875 34.8125 36.53125 \r\nQ 39.546875 41.84375 41.421875 45.53125 \r\nQ 43.3125 49.21875 43.3125 52.78125 \r\nQ 43.3125 58.59375 39.234375 62.25 \r\nQ 35.15625 65.921875 28.609375 65.921875 \r\nQ 23.96875 65.921875 18.8125 64.3125 \r\nQ 13.671875 62.703125 7.8125 59.421875 \r\nL 7.8125 69.390625 \r\nQ 13.765625 71.78125 18.9375 73 \r\nQ 24.125 74.21875 28.421875 74.21875 \r\nQ 39.75 74.21875 46.484375 68.546875 \r\nQ 53.21875 62.890625 53.21875 53.421875 \r\nQ 53.21875 48.921875 51.53125 44.890625 \r\nQ 49.859375 40.875 45.40625 35.40625 \r\nQ 44.1875 33.984375 37.640625 27.21875 \r\nQ 31.109375 20.453125 19.1875 8.296875 \r\nz\r\n\" id=\"DejaVuSans-50\"/>\r\n       </defs>\r\n       <use xlink:href=\"#DejaVuSans-50\"/>\r\n      </g>\r\n     </g>\r\n    </g>\r\n    <g id=\"xtick_4\">\r\n     <g id=\"line2d_4\">\r\n      <g>\r\n       <use style=\"stroke:#000000;stroke-width:0.8;\" x=\"291.718125\" xlink:href=\"#m2eea9d053c\" y=\"348.478125\"/>\r\n      </g>\r\n     </g>\r\n     <g id=\"text_4\">\r\n      <!-- 3 -->\r\n      <g transform=\"translate(288.536875 363.076563)scale(0.1 -0.1)\">\r\n       <defs>\r\n        <path d=\"M 40.578125 39.3125 \r\nQ 47.65625 37.796875 51.625 33 \r\nQ 55.609375 28.21875 55.609375 21.1875 \r\nQ 55.609375 10.40625 48.1875 4.484375 \r\nQ 40.765625 -1.421875 27.09375 -1.421875 \r\nQ 22.515625 -1.421875 17.65625 -0.515625 \r\nQ 12.796875 0.390625 7.625 2.203125 \r\nL 7.625 11.71875 \r\nQ 11.71875 9.328125 16.59375 8.109375 \r\nQ 21.484375 6.890625 26.8125 6.890625 \r\nQ 36.078125 6.890625 40.9375 10.546875 \r\nQ 45.796875 14.203125 45.796875 21.1875 \r\nQ 45.796875 27.640625 41.28125 31.265625 \r\nQ 36.765625 34.90625 28.71875 34.90625 \r\nL 20.21875 34.90625 \r\nL 20.21875 43.015625 \r\nL 29.109375 43.015625 \r\nQ 36.375 43.015625 40.234375 45.921875 \r\nQ 44.09375 48.828125 44.09375 54.296875 \r\nQ 44.09375 59.90625 40.109375 62.90625 \r\nQ 36.140625 65.921875 28.71875 65.921875 \r\nQ 24.65625 65.921875 20.015625 65.03125 \r\nQ 15.375 64.15625 9.8125 62.3125 \r\nL 9.8125 71.09375 \r\nQ 15.4375 72.65625 20.34375 73.4375 \r\nQ 25.25 74.21875 29.59375 74.21875 \r\nQ 40.828125 74.21875 47.359375 69.109375 \r\nQ 53.90625 64.015625 53.90625 55.328125 \r\nQ 53.90625 49.265625 50.4375 45.09375 \r\nQ 46.96875 40.921875 40.578125 39.3125 \r\nz\r\n\" id=\"DejaVuSans-51\"/>\r\n       </defs>\r\n       <use xlink:href=\"#DejaVuSans-51\"/>\r\n      </g>\r\n     </g>\r\n    </g>\r\n    <g id=\"xtick_5\">\r\n     <g id=\"line2d_5\">\r\n      <g>\r\n       <use style=\"stroke:#000000;stroke-width:0.8;\" x=\"368.243839\" xlink:href=\"#m2eea9d053c\" y=\"348.478125\"/>\r\n      </g>\r\n     </g>\r\n     <g id=\"text_5\">\r\n      <!-- 4 -->\r\n      <g transform=\"translate(365.062589 363.076563)scale(0.1 -0.1)\">\r\n       <defs>\r\n        <path d=\"M 37.796875 64.3125 \r\nL 12.890625 25.390625 \r\nL 37.796875 25.390625 \r\nz\r\nM 35.203125 72.90625 \r\nL 47.609375 72.90625 \r\nL 47.609375 25.390625 \r\nL 58.015625 25.390625 \r\nL 58.015625 17.1875 \r\nL 47.609375 17.1875 \r\nL 47.609375 0 \r\nL 37.796875 0 \r\nL 37.796875 17.1875 \r\nL 4.890625 17.1875 \r\nL 4.890625 26.703125 \r\nz\r\n\" id=\"DejaVuSans-52\"/>\r\n       </defs>\r\n       <use xlink:href=\"#DejaVuSans-52\"/>\r\n      </g>\r\n     </g>\r\n    </g>\r\n    <g id=\"xtick_6\">\r\n     <g id=\"line2d_6\">\r\n      <g>\r\n       <use style=\"stroke:#000000;stroke-width:0.8;\" x=\"444.769554\" xlink:href=\"#m2eea9d053c\" y=\"348.478125\"/>\r\n      </g>\r\n     </g>\r\n     <g id=\"text_6\">\r\n      <!-- 5 -->\r\n      <g transform=\"translate(441.588304 363.076563)scale(0.1 -0.1)\">\r\n       <defs>\r\n        <path d=\"M 10.796875 72.90625 \r\nL 49.515625 72.90625 \r\nL 49.515625 64.59375 \r\nL 19.828125 64.59375 \r\nL 19.828125 46.734375 \r\nQ 21.96875 47.46875 24.109375 47.828125 \r\nQ 26.265625 48.1875 28.421875 48.1875 \r\nQ 40.625 48.1875 47.75 41.5 \r\nQ 54.890625 34.8125 54.890625 23.390625 \r\nQ 54.890625 11.625 47.5625 5.09375 \r\nQ 40.234375 -1.421875 26.90625 -1.421875 \r\nQ 22.3125 -1.421875 17.546875 -0.640625 \r\nQ 12.796875 0.140625 7.71875 1.703125 \r\nL 7.71875 11.625 \r\nQ 12.109375 9.234375 16.796875 8.0625 \r\nQ 21.484375 6.890625 26.703125 6.890625 \r\nQ 35.15625 6.890625 40.078125 11.328125 \r\nQ 45.015625 15.765625 45.015625 23.390625 \r\nQ 45.015625 31 40.078125 35.4375 \r\nQ 35.15625 39.890625 26.703125 39.890625 \r\nQ 22.75 39.890625 18.8125 39.015625 \r\nQ 14.890625 38.140625 10.796875 36.28125 \r\nz\r\n\" id=\"DejaVuSans-53\"/>\r\n       </defs>\r\n       <use xlink:href=\"#DejaVuSans-53\"/>\r\n      </g>\r\n     </g>\r\n    </g>\r\n    <g id=\"xtick_7\">\r\n     <g id=\"line2d_7\">\r\n      <g>\r\n       <use style=\"stroke:#000000;stroke-width:0.8;\" x=\"521.295268\" xlink:href=\"#m2eea9d053c\" y=\"348.478125\"/>\r\n      </g>\r\n     </g>\r\n     <g id=\"text_7\">\r\n      <!-- 6 -->\r\n      <g transform=\"translate(518.114018 363.076563)scale(0.1 -0.1)\">\r\n       <defs>\r\n        <path d=\"M 33.015625 40.375 \r\nQ 26.375 40.375 22.484375 35.828125 \r\nQ 18.609375 31.296875 18.609375 23.390625 \r\nQ 18.609375 15.53125 22.484375 10.953125 \r\nQ 26.375 6.390625 33.015625 6.390625 \r\nQ 39.65625 6.390625 43.53125 10.953125 \r\nQ 47.40625 15.53125 47.40625 23.390625 \r\nQ 47.40625 31.296875 43.53125 35.828125 \r\nQ 39.65625 40.375 33.015625 40.375 \r\nz\r\nM 52.59375 71.296875 \r\nL 52.59375 62.3125 \r\nQ 48.875 64.0625 45.09375 64.984375 \r\nQ 41.3125 65.921875 37.59375 65.921875 \r\nQ 27.828125 65.921875 22.671875 59.328125 \r\nQ 17.53125 52.734375 16.796875 39.40625 \r\nQ 19.671875 43.65625 24.015625 45.921875 \r\nQ 28.375 48.1875 33.59375 48.1875 \r\nQ 44.578125 48.1875 50.953125 41.515625 \r\nQ 57.328125 34.859375 57.328125 23.390625 \r\nQ 57.328125 12.15625 50.6875 5.359375 \r\nQ 44.046875 -1.421875 33.015625 -1.421875 \r\nQ 20.359375 -1.421875 13.671875 8.265625 \r\nQ 6.984375 17.96875 6.984375 36.375 \r\nQ 6.984375 53.65625 15.1875 63.9375 \r\nQ 23.390625 74.21875 37.203125 74.21875 \r\nQ 40.921875 74.21875 44.703125 73.484375 \r\nQ 48.484375 72.75 52.59375 71.296875 \r\nz\r\n\" id=\"DejaVuSans-54\"/>\r\n       </defs>\r\n       <use xlink:href=\"#DejaVuSans-54\"/>\r\n      </g>\r\n     </g>\r\n    </g>\r\n   </g>\r\n   <g id=\"matplotlib.axis_2\">\r\n    <g id=\"ytick_1\">\r\n     <g id=\"line2d_8\">\r\n      <defs>\r\n       <path d=\"M 0 0 \r\nL -3.5 0 \r\n\" id=\"m47927d822f\" style=\"stroke:#000000;stroke-width:0.8;\"/>\r\n      </defs>\r\n      <g>\r\n       <use style=\"stroke:#000000;stroke-width:0.8;\" x=\"23.878125\" xlink:href=\"#m47927d822f\" y=\"45.615268\"/>\r\n      </g>\r\n     </g>\r\n     <g id=\"text_8\">\r\n      <!-- 0 -->\r\n      <g transform=\"translate(14.798438 48.178549)rotate(-90)scale(0.1 -0.1)\">\r\n       <use xlink:href=\"#DejaVuSans-48\"/>\r\n      </g>\r\n     </g>\r\n    </g>\r\n    <g id=\"ytick_2\">\r\n     <g id=\"line2d_9\">\r\n      <g>\r\n       <use style=\"stroke:#000000;stroke-width:0.8;\" x=\"23.878125\" xlink:href=\"#m47927d822f\" y=\"92.209554\"/>\r\n      </g>\r\n     </g>\r\n     <g id=\"text_9\">\r\n      <!-- 1 -->\r\n      <g transform=\"translate(14.798438 94.772835)rotate(-90)scale(0.1 -0.1)\">\r\n       <use xlink:href=\"#DejaVuSans-49\"/>\r\n      </g>\r\n     </g>\r\n    </g>\r\n    <g id=\"ytick_3\">\r\n     <g id=\"line2d_10\">\r\n      <g>\r\n       <use style=\"stroke:#000000;stroke-width:0.8;\" x=\"23.878125\" xlink:href=\"#m47927d822f\" y=\"138.803839\"/>\r\n      </g>\r\n     </g>\r\n     <g id=\"text_10\">\r\n      <!-- 2 -->\r\n      <g transform=\"translate(14.798438 141.367121)rotate(-90)scale(0.1 -0.1)\">\r\n       <use xlink:href=\"#DejaVuSans-50\"/>\r\n      </g>\r\n     </g>\r\n    </g>\r\n    <g id=\"ytick_4\">\r\n     <g id=\"line2d_11\">\r\n      <g>\r\n       <use style=\"stroke:#000000;stroke-width:0.8;\" x=\"23.878125\" xlink:href=\"#m47927d822f\" y=\"185.398125\"/>\r\n      </g>\r\n     </g>\r\n     <g id=\"text_11\">\r\n      <!-- 3 -->\r\n      <g transform=\"translate(14.798438 187.961406)rotate(-90)scale(0.1 -0.1)\">\r\n       <use xlink:href=\"#DejaVuSans-51\"/>\r\n      </g>\r\n     </g>\r\n    </g>\r\n    <g id=\"ytick_5\">\r\n     <g id=\"line2d_12\">\r\n      <g>\r\n       <use style=\"stroke:#000000;stroke-width:0.8;\" x=\"23.878125\" xlink:href=\"#m47927d822f\" y=\"231.992411\"/>\r\n      </g>\r\n     </g>\r\n     <g id=\"text_12\">\r\n      <!-- 4 -->\r\n      <g transform=\"translate(14.798438 234.555692)rotate(-90)scale(0.1 -0.1)\">\r\n       <use xlink:href=\"#DejaVuSans-52\"/>\r\n      </g>\r\n     </g>\r\n    </g>\r\n    <g id=\"ytick_6\">\r\n     <g id=\"line2d_13\">\r\n      <g>\r\n       <use style=\"stroke:#000000;stroke-width:0.8;\" x=\"23.878125\" xlink:href=\"#m47927d822f\" y=\"278.586696\"/>\r\n      </g>\r\n     </g>\r\n     <g id=\"text_13\">\r\n      <!-- 5 -->\r\n      <g transform=\"translate(14.798438 281.149978)rotate(-90)scale(0.1 -0.1)\">\r\n       <use xlink:href=\"#DejaVuSans-53\"/>\r\n      </g>\r\n     </g>\r\n    </g>\r\n    <g id=\"ytick_7\">\r\n     <g id=\"line2d_14\">\r\n      <g>\r\n       <use style=\"stroke:#000000;stroke-width:0.8;\" x=\"23.878125\" xlink:href=\"#m47927d822f\" y=\"325.180982\"/>\r\n      </g>\r\n     </g>\r\n     <g id=\"text_14\">\r\n      <!-- 6 -->\r\n      <g transform=\"translate(14.798438 327.744263)rotate(-90)scale(0.1 -0.1)\">\r\n       <use xlink:href=\"#DejaVuSans-54\"/>\r\n      </g>\r\n     </g>\r\n    </g>\r\n   </g>\r\n   <g id=\"text_15\">\r\n    <!-- 4.7e+04 -->\r\n    <g style=\"fill:#ffffff;\" transform=\"translate(40.560513 48.374643)scale(0.1 -0.1)\">\r\n     <defs>\r\n      <path d=\"M 10.6875 12.40625 \r\nL 21 12.40625 \r\nL 21 0 \r\nL 10.6875 0 \r\nz\r\n\" id=\"DejaVuSans-46\"/>\r\n      <path d=\"M 8.203125 72.90625 \r\nL 55.078125 72.90625 \r\nL 55.078125 68.703125 \r\nL 28.609375 0 \r\nL 18.3125 0 \r\nL 43.21875 64.59375 \r\nL 8.203125 64.59375 \r\nz\r\n\" id=\"DejaVuSans-55\"/>\r\n      <path d=\"M 56.203125 29.59375 \r\nL 56.203125 25.203125 \r\nL 14.890625 25.203125 \r\nQ 15.484375 15.921875 20.484375 11.0625 \r\nQ 25.484375 6.203125 34.421875 6.203125 \r\nQ 39.59375 6.203125 44.453125 7.46875 \r\nQ 49.3125 8.734375 54.109375 11.28125 \r\nL 54.109375 2.78125 \r\nQ 49.265625 0.734375 44.1875 -0.34375 \r\nQ 39.109375 -1.421875 33.890625 -1.421875 \r\nQ 20.796875 -1.421875 13.15625 6.1875 \r\nQ 5.515625 13.8125 5.515625 26.8125 \r\nQ 5.515625 40.234375 12.765625 48.109375 \r\nQ 20.015625 56 32.328125 56 \r\nQ 43.359375 56 49.78125 48.890625 \r\nQ 56.203125 41.796875 56.203125 29.59375 \r\nz\r\nM 47.21875 32.234375 \r\nQ 47.125 39.59375 43.09375 43.984375 \r\nQ 39.0625 48.390625 32.421875 48.390625 \r\nQ 24.90625 48.390625 20.390625 44.140625 \r\nQ 15.875 39.890625 15.1875 32.171875 \r\nz\r\n\" id=\"DejaVuSans-101\"/>\r\n      <path d=\"M 46 62.703125 \r\nL 46 35.5 \r\nL 73.1875 35.5 \r\nL 73.1875 27.203125 \r\nL 46 27.203125 \r\nL 46 0 \r\nL 37.796875 0 \r\nL 37.796875 27.203125 \r\nL 10.59375 27.203125 \r\nL 10.59375 35.5 \r\nL 37.796875 35.5 \r\nL 37.796875 62.703125 \r\nz\r\n\" id=\"DejaVuSans-43\"/>\r\n     </defs>\r\n     <use xlink:href=\"#DejaVuSans-52\"/>\r\n     <use x=\"63.623047\" xlink:href=\"#DejaVuSans-46\"/>\r\n     <use x=\"95.410156\" xlink:href=\"#DejaVuSans-55\"/>\r\n     <use x=\"159.033203\" xlink:href=\"#DejaVuSans-101\"/>\r\n     <use x=\"220.556641\" xlink:href=\"#DejaVuSans-43\"/>\r\n     <use x=\"304.345703\" xlink:href=\"#DejaVuSans-48\"/>\r\n     <use x=\"367.96875\" xlink:href=\"#DejaVuSans-52\"/>\r\n    </g>\r\n   </g>\r\n   <g id=\"text_16\">\r\n    <!-- 1.5e+04 -->\r\n    <g style=\"fill:#262626;\" transform=\"translate(117.086228 48.374643)scale(0.1 -0.1)\">\r\n     <use xlink:href=\"#DejaVuSans-49\"/>\r\n     <use x=\"63.623047\" xlink:href=\"#DejaVuSans-46\"/>\r\n     <use x=\"95.410156\" xlink:href=\"#DejaVuSans-53\"/>\r\n     <use x=\"159.033203\" xlink:href=\"#DejaVuSans-101\"/>\r\n     <use x=\"220.556641\" xlink:href=\"#DejaVuSans-43\"/>\r\n     <use x=\"304.345703\" xlink:href=\"#DejaVuSans-48\"/>\r\n     <use x=\"367.96875\" xlink:href=\"#DejaVuSans-52\"/>\r\n    </g>\r\n   </g>\r\n   <g id=\"text_17\">\r\n    <!-- 11 -->\r\n    <g style=\"fill:#262626;\" transform=\"translate(208.829911 48.374643)scale(0.1 -0.1)\">\r\n     <use xlink:href=\"#DejaVuSans-49\"/>\r\n     <use x=\"63.623047\" xlink:href=\"#DejaVuSans-49\"/>\r\n    </g>\r\n   </g>\r\n   <g id=\"text_18\">\r\n    <!-- 0 -->\r\n    <g style=\"fill:#262626;\" transform=\"translate(288.536875 48.374643)scale(0.1 -0.1)\">\r\n     <use xlink:href=\"#DejaVuSans-48\"/>\r\n    </g>\r\n   </g>\r\n   <g id=\"text_19\">\r\n    <!-- 14 -->\r\n    <g style=\"fill:#262626;\" transform=\"translate(361.881339 48.374643)scale(0.1 -0.1)\">\r\n     <use xlink:href=\"#DejaVuSans-49\"/>\r\n     <use x=\"63.623047\" xlink:href=\"#DejaVuSans-52\"/>\r\n    </g>\r\n   </g>\r\n   <g id=\"text_20\">\r\n    <!-- 30 -->\r\n    <g style=\"fill:#262626;\" transform=\"translate(438.407054 48.374643)scale(0.1 -0.1)\">\r\n     <use xlink:href=\"#DejaVuSans-51\"/>\r\n     <use x=\"63.623047\" xlink:href=\"#DejaVuSans-48\"/>\r\n    </g>\r\n   </g>\r\n   <g id=\"text_21\">\r\n    <!-- 7.5e+02 -->\r\n    <g style=\"fill:#262626;\" transform=\"translate(499.714799 48.374643)scale(0.1 -0.1)\">\r\n     <use xlink:href=\"#DejaVuSans-55\"/>\r\n     <use x=\"63.623047\" xlink:href=\"#DejaVuSans-46\"/>\r\n     <use x=\"95.410156\" xlink:href=\"#DejaVuSans-53\"/>\r\n     <use x=\"159.033203\" xlink:href=\"#DejaVuSans-101\"/>\r\n     <use x=\"220.556641\" xlink:href=\"#DejaVuSans-43\"/>\r\n     <use x=\"304.345703\" xlink:href=\"#DejaVuSans-48\"/>\r\n     <use x=\"367.96875\" xlink:href=\"#DejaVuSans-50\"/>\r\n    </g>\r\n   </g>\r\n   <g id=\"text_22\">\r\n    <!-- 1.4e+04 -->\r\n    <g style=\"fill:#262626;\" transform=\"translate(40.560513 94.968929)scale(0.1 -0.1)\">\r\n     <use xlink:href=\"#DejaVuSans-49\"/>\r\n     <use x=\"63.623047\" xlink:href=\"#DejaVuSans-46\"/>\r\n     <use x=\"95.410156\" xlink:href=\"#DejaVuSans-52\"/>\r\n     <use x=\"159.033203\" xlink:href=\"#DejaVuSans-101\"/>\r\n     <use x=\"220.556641\" xlink:href=\"#DejaVuSans-43\"/>\r\n     <use x=\"304.345703\" xlink:href=\"#DejaVuSans-48\"/>\r\n     <use x=\"367.96875\" xlink:href=\"#DejaVuSans-52\"/>\r\n    </g>\r\n   </g>\r\n   <g id=\"text_23\">\r\n    <!-- 7e+04 -->\r\n    <g style=\"fill:#ffffff;\" transform=\"translate(121.85654 94.968929)scale(0.1 -0.1)\">\r\n     <use xlink:href=\"#DejaVuSans-55\"/>\r\n     <use x=\"63.623047\" xlink:href=\"#DejaVuSans-101\"/>\r\n     <use x=\"125.146484\" xlink:href=\"#DejaVuSans-43\"/>\r\n     <use x=\"208.935547\" xlink:href=\"#DejaVuSans-48\"/>\r\n     <use x=\"272.558594\" xlink:href=\"#DejaVuSans-52\"/>\r\n    </g>\r\n   </g>\r\n   <g id=\"text_24\">\r\n    <!-- 6.4e+02 -->\r\n    <g style=\"fill:#262626;\" transform=\"translate(193.611942 94.968929)scale(0.1 -0.1)\">\r\n     <use xlink:href=\"#DejaVuSans-54\"/>\r\n     <use x=\"63.623047\" xlink:href=\"#DejaVuSans-46\"/>\r\n     <use x=\"95.410156\" xlink:href=\"#DejaVuSans-52\"/>\r\n     <use x=\"159.033203\" xlink:href=\"#DejaVuSans-101\"/>\r\n     <use x=\"220.556641\" xlink:href=\"#DejaVuSans-43\"/>\r\n     <use x=\"304.345703\" xlink:href=\"#DejaVuSans-48\"/>\r\n     <use x=\"367.96875\" xlink:href=\"#DejaVuSans-50\"/>\r\n    </g>\r\n   </g>\r\n   <g id=\"text_25\">\r\n    <!-- 0 -->\r\n    <g style=\"fill:#262626;\" transform=\"translate(288.536875 94.968929)scale(0.1 -0.1)\">\r\n     <use xlink:href=\"#DejaVuSans-48\"/>\r\n    </g>\r\n   </g>\r\n   <g id=\"text_26\">\r\n    <!-- 1.1e+02 -->\r\n    <g style=\"fill:#262626;\" transform=\"translate(346.663371 94.968929)scale(0.1 -0.1)\">\r\n     <use xlink:href=\"#DejaVuSans-49\"/>\r\n     <use x=\"63.623047\" xlink:href=\"#DejaVuSans-46\"/>\r\n     <use x=\"95.410156\" xlink:href=\"#DejaVuSans-49\"/>\r\n     <use x=\"159.033203\" xlink:href=\"#DejaVuSans-101\"/>\r\n     <use x=\"220.556641\" xlink:href=\"#DejaVuSans-43\"/>\r\n     <use x=\"304.345703\" xlink:href=\"#DejaVuSans-48\"/>\r\n     <use x=\"367.96875\" xlink:href=\"#DejaVuSans-50\"/>\r\n    </g>\r\n   </g>\r\n   <g id=\"text_27\">\r\n    <!-- 7.1e+02 -->\r\n    <g style=\"fill:#262626;\" transform=\"translate(423.189085 94.968929)scale(0.1 -0.1)\">\r\n     <use xlink:href=\"#DejaVuSans-55\"/>\r\n     <use x=\"63.623047\" xlink:href=\"#DejaVuSans-46\"/>\r\n     <use x=\"95.410156\" xlink:href=\"#DejaVuSans-49\"/>\r\n     <use x=\"159.033203\" xlink:href=\"#DejaVuSans-101\"/>\r\n     <use x=\"220.556641\" xlink:href=\"#DejaVuSans-43\"/>\r\n     <use x=\"304.345703\" xlink:href=\"#DejaVuSans-48\"/>\r\n     <use x=\"367.96875\" xlink:href=\"#DejaVuSans-50\"/>\r\n    </g>\r\n   </g>\r\n   <g id=\"text_28\">\r\n    <!-- 56 -->\r\n    <g style=\"fill:#262626;\" transform=\"translate(514.932768 94.968929)scale(0.1 -0.1)\">\r\n     <use xlink:href=\"#DejaVuSans-53\"/>\r\n     <use x=\"63.623047\" xlink:href=\"#DejaVuSans-54\"/>\r\n    </g>\r\n   </g>\r\n   <g id=\"text_29\">\r\n    <!-- 0 -->\r\n    <g style=\"fill:#262626;\" transform=\"translate(58.959732 141.563214)scale(0.1 -0.1)\">\r\n     <use xlink:href=\"#DejaVuSans-48\"/>\r\n    </g>\r\n   </g>\r\n   <g id=\"text_30\">\r\n    <!-- 1.1e+03 -->\r\n    <g style=\"fill:#262626;\" transform=\"translate(117.086228 141.563214)scale(0.1 -0.1)\">\r\n     <use xlink:href=\"#DejaVuSans-49\"/>\r\n     <use x=\"63.623047\" xlink:href=\"#DejaVuSans-46\"/>\r\n     <use x=\"95.410156\" xlink:href=\"#DejaVuSans-49\"/>\r\n     <use x=\"159.033203\" xlink:href=\"#DejaVuSans-101\"/>\r\n     <use x=\"220.556641\" xlink:href=\"#DejaVuSans-43\"/>\r\n     <use x=\"304.345703\" xlink:href=\"#DejaVuSans-48\"/>\r\n     <use x=\"367.96875\" xlink:href=\"#DejaVuSans-51\"/>\r\n    </g>\r\n   </g>\r\n   <g id=\"text_31\">\r\n    <!-- 8.7e+03 -->\r\n    <g style=\"fill:#262626;\" transform=\"translate(193.611942 141.563214)scale(0.1 -0.1)\">\r\n     <defs>\r\n      <path d=\"M 31.78125 34.625 \r\nQ 24.75 34.625 20.71875 30.859375 \r\nQ 16.703125 27.09375 16.703125 20.515625 \r\nQ 16.703125 13.921875 20.71875 10.15625 \r\nQ 24.75 6.390625 31.78125 6.390625 \r\nQ 38.8125 6.390625 42.859375 10.171875 \r\nQ 46.921875 13.96875 46.921875 20.515625 \r\nQ 46.921875 27.09375 42.890625 30.859375 \r\nQ 38.875 34.625 31.78125 34.625 \r\nz\r\nM 21.921875 38.8125 \r\nQ 15.578125 40.375 12.03125 44.71875 \r\nQ 8.5 49.078125 8.5 55.328125 \r\nQ 8.5 64.0625 14.71875 69.140625 \r\nQ 20.953125 74.21875 31.78125 74.21875 \r\nQ 42.671875 74.21875 48.875 69.140625 \r\nQ 55.078125 64.0625 55.078125 55.328125 \r\nQ 55.078125 49.078125 51.53125 44.71875 \r\nQ 48 40.375 41.703125 38.8125 \r\nQ 48.828125 37.15625 52.796875 32.3125 \r\nQ 56.78125 27.484375 56.78125 20.515625 \r\nQ 56.78125 9.90625 50.3125 4.234375 \r\nQ 43.84375 -1.421875 31.78125 -1.421875 \r\nQ 19.734375 -1.421875 13.25 4.234375 \r\nQ 6.78125 9.90625 6.78125 20.515625 \r\nQ 6.78125 27.484375 10.78125 32.3125 \r\nQ 14.796875 37.15625 21.921875 38.8125 \r\nz\r\nM 18.3125 54.390625 \r\nQ 18.3125 48.734375 21.84375 45.5625 \r\nQ 25.390625 42.390625 31.78125 42.390625 \r\nQ 38.140625 42.390625 41.71875 45.5625 \r\nQ 45.3125 48.734375 45.3125 54.390625 \r\nQ 45.3125 60.0625 41.71875 63.234375 \r\nQ 38.140625 66.40625 31.78125 66.40625 \r\nQ 25.390625 66.40625 21.84375 63.234375 \r\nQ 18.3125 60.0625 18.3125 54.390625 \r\nz\r\n\" id=\"DejaVuSans-56\"/>\r\n     </defs>\r\n     <use xlink:href=\"#DejaVuSans-56\"/>\r\n     <use x=\"63.623047\" xlink:href=\"#DejaVuSans-46\"/>\r\n     <use x=\"95.410156\" xlink:href=\"#DejaVuSans-55\"/>\r\n     <use x=\"159.033203\" xlink:href=\"#DejaVuSans-101\"/>\r\n     <use x=\"220.556641\" xlink:href=\"#DejaVuSans-43\"/>\r\n     <use x=\"304.345703\" xlink:href=\"#DejaVuSans-48\"/>\r\n     <use x=\"367.96875\" xlink:href=\"#DejaVuSans-51\"/>\r\n    </g>\r\n   </g>\r\n   <g id=\"text_32\">\r\n    <!-- 1.6e+02 -->\r\n    <g style=\"fill:#262626;\" transform=\"translate(270.137656 141.563214)scale(0.1 -0.1)\">\r\n     <use xlink:href=\"#DejaVuSans-49\"/>\r\n     <use x=\"63.623047\" xlink:href=\"#DejaVuSans-46\"/>\r\n     <use x=\"95.410156\" xlink:href=\"#DejaVuSans-54\"/>\r\n     <use x=\"159.033203\" xlink:href=\"#DejaVuSans-101\"/>\r\n     <use x=\"220.556641\" xlink:href=\"#DejaVuSans-43\"/>\r\n     <use x=\"304.345703\" xlink:href=\"#DejaVuSans-48\"/>\r\n     <use x=\"367.96875\" xlink:href=\"#DejaVuSans-50\"/>\r\n    </g>\r\n   </g>\r\n   <g id=\"text_33\">\r\n    <!-- 0 -->\r\n    <g style=\"fill:#262626;\" transform=\"translate(365.062589 141.563214)scale(0.1 -0.1)\">\r\n     <use xlink:href=\"#DejaVuSans-48\"/>\r\n    </g>\r\n   </g>\r\n   <g id=\"text_34\">\r\n    <!-- 7.8e+02 -->\r\n    <g style=\"fill:#262626;\" transform=\"translate(423.189085 141.563214)scale(0.1 -0.1)\">\r\n     <use xlink:href=\"#DejaVuSans-55\"/>\r\n     <use x=\"63.623047\" xlink:href=\"#DejaVuSans-46\"/>\r\n     <use x=\"95.410156\" xlink:href=\"#DejaVuSans-56\"/>\r\n     <use x=\"159.033203\" xlink:href=\"#DejaVuSans-101\"/>\r\n     <use x=\"220.556641\" xlink:href=\"#DejaVuSans-43\"/>\r\n     <use x=\"304.345703\" xlink:href=\"#DejaVuSans-48\"/>\r\n     <use x=\"367.96875\" xlink:href=\"#DejaVuSans-50\"/>\r\n    </g>\r\n   </g>\r\n   <g id=\"text_35\">\r\n    <!-- 0 -->\r\n    <g style=\"fill:#262626;\" transform=\"translate(518.114018 141.563214)scale(0.1 -0.1)\">\r\n     <use xlink:href=\"#DejaVuSans-48\"/>\r\n    </g>\r\n   </g>\r\n   <g id=\"text_36\">\r\n    <!-- 0 -->\r\n    <g style=\"fill:#262626;\" transform=\"translate(58.959732 188.1575)scale(0.1 -0.1)\">\r\n     <use xlink:href=\"#DejaVuSans-48\"/>\r\n    </g>\r\n   </g>\r\n   <g id=\"text_37\">\r\n    <!-- 0 -->\r\n    <g style=\"fill:#262626;\" transform=\"translate(135.485446 188.1575)scale(0.1 -0.1)\">\r\n     <use xlink:href=\"#DejaVuSans-48\"/>\r\n    </g>\r\n   </g>\r\n   <g id=\"text_38\">\r\n    <!-- 3.4e+02 -->\r\n    <g style=\"fill:#262626;\" transform=\"translate(193.611942 188.1575)scale(0.1 -0.1)\">\r\n     <use xlink:href=\"#DejaVuSans-51\"/>\r\n     <use x=\"63.623047\" xlink:href=\"#DejaVuSans-46\"/>\r\n     <use x=\"95.410156\" xlink:href=\"#DejaVuSans-52\"/>\r\n     <use x=\"159.033203\" xlink:href=\"#DejaVuSans-101\"/>\r\n     <use x=\"220.556641\" xlink:href=\"#DejaVuSans-43\"/>\r\n     <use x=\"304.345703\" xlink:href=\"#DejaVuSans-48\"/>\r\n     <use x=\"367.96875\" xlink:href=\"#DejaVuSans-50\"/>\r\n    </g>\r\n   </g>\r\n   <g id=\"text_39\">\r\n    <!-- 3.9e+02 -->\r\n    <g style=\"fill:#262626;\" transform=\"translate(270.137656 188.1575)scale(0.1 -0.1)\">\r\n     <defs>\r\n      <path d=\"M 10.984375 1.515625 \r\nL 10.984375 10.5 \r\nQ 14.703125 8.734375 18.5 7.8125 \r\nQ 22.3125 6.890625 25.984375 6.890625 \r\nQ 35.75 6.890625 40.890625 13.453125 \r\nQ 46.046875 20.015625 46.78125 33.40625 \r\nQ 43.953125 29.203125 39.59375 26.953125 \r\nQ 35.25 24.703125 29.984375 24.703125 \r\nQ 19.046875 24.703125 12.671875 31.3125 \r\nQ 6.296875 37.9375 6.296875 49.421875 \r\nQ 6.296875 60.640625 12.9375 67.421875 \r\nQ 19.578125 74.21875 30.609375 74.21875 \r\nQ 43.265625 74.21875 49.921875 64.515625 \r\nQ 56.59375 54.828125 56.59375 36.375 \r\nQ 56.59375 19.140625 48.40625 8.859375 \r\nQ 40.234375 -1.421875 26.421875 -1.421875 \r\nQ 22.703125 -1.421875 18.890625 -0.6875 \r\nQ 15.09375 0.046875 10.984375 1.515625 \r\nz\r\nM 30.609375 32.421875 \r\nQ 37.25 32.421875 41.125 36.953125 \r\nQ 45.015625 41.5 45.015625 49.421875 \r\nQ 45.015625 57.28125 41.125 61.84375 \r\nQ 37.25 66.40625 30.609375 66.40625 \r\nQ 23.96875 66.40625 20.09375 61.84375 \r\nQ 16.21875 57.28125 16.21875 49.421875 \r\nQ 16.21875 41.5 20.09375 36.953125 \r\nQ 23.96875 32.421875 30.609375 32.421875 \r\nz\r\n\" id=\"DejaVuSans-57\"/>\r\n     </defs>\r\n     <use xlink:href=\"#DejaVuSans-51\"/>\r\n     <use x=\"63.623047\" xlink:href=\"#DejaVuSans-46\"/>\r\n     <use x=\"95.410156\" xlink:href=\"#DejaVuSans-57\"/>\r\n     <use x=\"159.033203\" xlink:href=\"#DejaVuSans-101\"/>\r\n     <use x=\"220.556641\" xlink:href=\"#DejaVuSans-43\"/>\r\n     <use x=\"304.345703\" xlink:href=\"#DejaVuSans-48\"/>\r\n     <use x=\"367.96875\" xlink:href=\"#DejaVuSans-50\"/>\r\n    </g>\r\n   </g>\r\n   <g id=\"text_40\">\r\n    <!-- 0 -->\r\n    <g style=\"fill:#262626;\" transform=\"translate(365.062589 188.1575)scale(0.1 -0.1)\">\r\n     <use xlink:href=\"#DejaVuSans-48\"/>\r\n    </g>\r\n   </g>\r\n   <g id=\"text_41\">\r\n    <!-- 70 -->\r\n    <g style=\"fill:#262626;\" transform=\"translate(438.407054 188.1575)scale(0.1 -0.1)\">\r\n     <use xlink:href=\"#DejaVuSans-55\"/>\r\n     <use x=\"63.623047\" xlink:href=\"#DejaVuSans-48\"/>\r\n    </g>\r\n   </g>\r\n   <g id=\"text_42\">\r\n    <!-- 0 -->\r\n    <g style=\"fill:#262626;\" transform=\"translate(518.114018 188.1575)scale(0.1 -0.1)\">\r\n     <use xlink:href=\"#DejaVuSans-48\"/>\r\n    </g>\r\n   </g>\r\n   <g id=\"text_43\">\r\n    <!-- 64 -->\r\n    <g style=\"fill:#262626;\" transform=\"translate(55.778482 234.751786)scale(0.1 -0.1)\">\r\n     <use xlink:href=\"#DejaVuSans-54\"/>\r\n     <use x=\"63.623047\" xlink:href=\"#DejaVuSans-52\"/>\r\n    </g>\r\n   </g>\r\n   <g id=\"text_44\">\r\n    <!-- 2.5e+03 -->\r\n    <g style=\"fill:#262626;\" transform=\"translate(117.086228 234.751786)scale(0.1 -0.1)\">\r\n     <use xlink:href=\"#DejaVuSans-50\"/>\r\n     <use x=\"63.623047\" xlink:href=\"#DejaVuSans-46\"/>\r\n     <use x=\"95.410156\" xlink:href=\"#DejaVuSans-53\"/>\r\n     <use x=\"159.033203\" xlink:href=\"#DejaVuSans-101\"/>\r\n     <use x=\"220.556641\" xlink:href=\"#DejaVuSans-43\"/>\r\n     <use x=\"304.345703\" xlink:href=\"#DejaVuSans-48\"/>\r\n     <use x=\"367.96875\" xlink:href=\"#DejaVuSans-51\"/>\r\n    </g>\r\n   </g>\r\n   <g id=\"text_45\">\r\n    <!-- 75 -->\r\n    <g style=\"fill:#262626;\" transform=\"translate(208.829911 234.751786)scale(0.1 -0.1)\">\r\n     <use xlink:href=\"#DejaVuSans-55\"/>\r\n     <use x=\"63.623047\" xlink:href=\"#DejaVuSans-53\"/>\r\n    </g>\r\n   </g>\r\n   <g id=\"text_46\">\r\n    <!-- 0 -->\r\n    <g style=\"fill:#262626;\" transform=\"translate(288.536875 234.751786)scale(0.1 -0.1)\">\r\n     <use xlink:href=\"#DejaVuSans-48\"/>\r\n    </g>\r\n   </g>\r\n   <g id=\"text_47\">\r\n    <!-- 1.9e+02 -->\r\n    <g style=\"fill:#262626;\" transform=\"translate(346.663371 234.751786)scale(0.1 -0.1)\">\r\n     <use xlink:href=\"#DejaVuSans-49\"/>\r\n     <use x=\"63.623047\" xlink:href=\"#DejaVuSans-46\"/>\r\n     <use x=\"95.410156\" xlink:href=\"#DejaVuSans-57\"/>\r\n     <use x=\"159.033203\" xlink:href=\"#DejaVuSans-101\"/>\r\n     <use x=\"220.556641\" xlink:href=\"#DejaVuSans-43\"/>\r\n     <use x=\"304.345703\" xlink:href=\"#DejaVuSans-48\"/>\r\n     <use x=\"367.96875\" xlink:href=\"#DejaVuSans-50\"/>\r\n    </g>\r\n   </g>\r\n   <g id=\"text_48\">\r\n    <!-- 13 -->\r\n    <g style=\"fill:#262626;\" transform=\"translate(438.407054 234.751786)scale(0.1 -0.1)\">\r\n     <use xlink:href=\"#DejaVuSans-49\"/>\r\n     <use x=\"63.623047\" xlink:href=\"#DejaVuSans-51\"/>\r\n    </g>\r\n   </g>\r\n   <g id=\"text_49\">\r\n    <!-- 0 -->\r\n    <g style=\"fill:#262626;\" transform=\"translate(518.114018 234.751786)scale(0.1 -0.1)\">\r\n     <use xlink:href=\"#DejaVuSans-48\"/>\r\n    </g>\r\n   </g>\r\n   <g id=\"text_50\">\r\n    <!-- 2 -->\r\n    <g style=\"fill:#262626;\" transform=\"translate(58.959732 281.346071)scale(0.1 -0.1)\">\r\n     <use xlink:href=\"#DejaVuSans-50\"/>\r\n    </g>\r\n   </g>\r\n   <g id=\"text_51\">\r\n    <!-- 1e+03 -->\r\n    <g style=\"fill:#262626;\" transform=\"translate(121.85654 281.346071)scale(0.1 -0.1)\">\r\n     <use xlink:href=\"#DejaVuSans-49\"/>\r\n     <use x=\"63.623047\" xlink:href=\"#DejaVuSans-101\"/>\r\n     <use x=\"125.146484\" xlink:href=\"#DejaVuSans-43\"/>\r\n     <use x=\"208.935547\" xlink:href=\"#DejaVuSans-48\"/>\r\n     <use x=\"272.558594\" xlink:href=\"#DejaVuSans-51\"/>\r\n    </g>\r\n   </g>\r\n   <g id=\"text_52\">\r\n    <!-- 2.5e+03 -->\r\n    <g style=\"fill:#262626;\" transform=\"translate(193.611942 281.346071)scale(0.1 -0.1)\">\r\n     <use xlink:href=\"#DejaVuSans-50\"/>\r\n     <use x=\"63.623047\" xlink:href=\"#DejaVuSans-46\"/>\r\n     <use x=\"95.410156\" xlink:href=\"#DejaVuSans-53\"/>\r\n     <use x=\"159.033203\" xlink:href=\"#DejaVuSans-101\"/>\r\n     <use x=\"220.556641\" xlink:href=\"#DejaVuSans-43\"/>\r\n     <use x=\"304.345703\" xlink:href=\"#DejaVuSans-48\"/>\r\n     <use x=\"367.96875\" xlink:href=\"#DejaVuSans-51\"/>\r\n    </g>\r\n   </g>\r\n   <g id=\"text_53\">\r\n    <!-- 55 -->\r\n    <g style=\"fill:#262626;\" transform=\"translate(285.355625 281.346071)scale(0.1 -0.1)\">\r\n     <use xlink:href=\"#DejaVuSans-53\"/>\r\n     <use x=\"63.623047\" xlink:href=\"#DejaVuSans-53\"/>\r\n    </g>\r\n   </g>\r\n   <g id=\"text_54\">\r\n    <!-- 0 -->\r\n    <g style=\"fill:#262626;\" transform=\"translate(365.062589 281.346071)scale(0.1 -0.1)\">\r\n     <use xlink:href=\"#DejaVuSans-48\"/>\r\n    </g>\r\n   </g>\r\n   <g id=\"text_55\">\r\n    <!-- 1.6e+03 -->\r\n    <g style=\"fill:#262626;\" transform=\"translate(423.189085 281.346071)scale(0.1 -0.1)\">\r\n     <use xlink:href=\"#DejaVuSans-49\"/>\r\n     <use x=\"63.623047\" xlink:href=\"#DejaVuSans-46\"/>\r\n     <use x=\"95.410156\" xlink:href=\"#DejaVuSans-54\"/>\r\n     <use x=\"159.033203\" xlink:href=\"#DejaVuSans-101\"/>\r\n     <use x=\"220.556641\" xlink:href=\"#DejaVuSans-43\"/>\r\n     <use x=\"304.345703\" xlink:href=\"#DejaVuSans-48\"/>\r\n     <use x=\"367.96875\" xlink:href=\"#DejaVuSans-51\"/>\r\n    </g>\r\n   </g>\r\n   <g id=\"text_56\">\r\n    <!-- 0 -->\r\n    <g style=\"fill:#262626;\" transform=\"translate(518.114018 281.346071)scale(0.1 -0.1)\">\r\n     <use xlink:href=\"#DejaVuSans-48\"/>\r\n    </g>\r\n   </g>\r\n   <g id=\"text_57\">\r\n    <!-- 2.3e+03 -->\r\n    <g style=\"fill:#262626;\" transform=\"translate(40.560513 327.940357)scale(0.1 -0.1)\">\r\n     <use xlink:href=\"#DejaVuSans-50\"/>\r\n     <use x=\"63.623047\" xlink:href=\"#DejaVuSans-46\"/>\r\n     <use x=\"95.410156\" xlink:href=\"#DejaVuSans-51\"/>\r\n     <use x=\"159.033203\" xlink:href=\"#DejaVuSans-101\"/>\r\n     <use x=\"220.556641\" xlink:href=\"#DejaVuSans-43\"/>\r\n     <use x=\"304.345703\" xlink:href=\"#DejaVuSans-48\"/>\r\n     <use x=\"367.96875\" xlink:href=\"#DejaVuSans-51\"/>\r\n    </g>\r\n   </g>\r\n   <g id=\"text_58\">\r\n    <!-- 36 -->\r\n    <g style=\"fill:#262626;\" transform=\"translate(132.304196 327.940357)scale(0.1 -0.1)\">\r\n     <use xlink:href=\"#DejaVuSans-51\"/>\r\n     <use x=\"63.623047\" xlink:href=\"#DejaVuSans-54\"/>\r\n    </g>\r\n   </g>\r\n   <g id=\"text_59\">\r\n    <!-- 0 -->\r\n    <g style=\"fill:#262626;\" transform=\"translate(212.011161 327.940357)scale(0.1 -0.1)\">\r\n     <use xlink:href=\"#DejaVuSans-48\"/>\r\n    </g>\r\n   </g>\r\n   <g id=\"text_60\">\r\n    <!-- 0 -->\r\n    <g style=\"fill:#262626;\" transform=\"translate(288.536875 327.940357)scale(0.1 -0.1)\">\r\n     <use xlink:href=\"#DejaVuSans-48\"/>\r\n    </g>\r\n   </g>\r\n   <g id=\"text_61\">\r\n    <!-- 0 -->\r\n    <g style=\"fill:#262626;\" transform=\"translate(365.062589 327.940357)scale(0.1 -0.1)\">\r\n     <use xlink:href=\"#DejaVuSans-48\"/>\r\n    </g>\r\n   </g>\r\n   <g id=\"text_62\">\r\n    <!-- 0 -->\r\n    <g style=\"fill:#262626;\" transform=\"translate(441.588304 327.940357)scale(0.1 -0.1)\">\r\n     <use xlink:href=\"#DejaVuSans-48\"/>\r\n    </g>\r\n   </g>\r\n   <g id=\"text_63\">\r\n    <!-- 3.9e+03 -->\r\n    <g style=\"fill:#262626;\" transform=\"translate(499.714799 327.940357)scale(0.1 -0.1)\">\r\n     <use xlink:href=\"#DejaVuSans-51\"/>\r\n     <use x=\"63.623047\" xlink:href=\"#DejaVuSans-46\"/>\r\n     <use x=\"95.410156\" xlink:href=\"#DejaVuSans-57\"/>\r\n     <use x=\"159.033203\" xlink:href=\"#DejaVuSans-101\"/>\r\n     <use x=\"220.556641\" xlink:href=\"#DejaVuSans-43\"/>\r\n     <use x=\"304.345703\" xlink:href=\"#DejaVuSans-48\"/>\r\n     <use x=\"367.96875\" xlink:href=\"#DejaVuSans-51\"/>\r\n    </g>\r\n   </g>\r\n   <g id=\"text_64\">\r\n    <!-- Matriz de Confusão -->\r\n    <g transform=\"translate(233.863125 16.318125)scale(0.12 -0.12)\">\r\n     <defs>\r\n      <path d=\"M 9.8125 72.90625 \r\nL 24.515625 72.90625 \r\nL 43.109375 23.296875 \r\nL 61.8125 72.90625 \r\nL 76.515625 72.90625 \r\nL 76.515625 0 \r\nL 66.890625 0 \r\nL 66.890625 64.015625 \r\nL 48.09375 14.015625 \r\nL 38.1875 14.015625 \r\nL 19.390625 64.015625 \r\nL 19.390625 0 \r\nL 9.8125 0 \r\nz\r\n\" id=\"DejaVuSans-77\"/>\r\n      <path d=\"M 34.28125 27.484375 \r\nQ 23.390625 27.484375 19.1875 25 \r\nQ 14.984375 22.515625 14.984375 16.5 \r\nQ 14.984375 11.71875 18.140625 8.90625 \r\nQ 21.296875 6.109375 26.703125 6.109375 \r\nQ 34.1875 6.109375 38.703125 11.40625 \r\nQ 43.21875 16.703125 43.21875 25.484375 \r\nL 43.21875 27.484375 \r\nz\r\nM 52.203125 31.203125 \r\nL 52.203125 0 \r\nL 43.21875 0 \r\nL 43.21875 8.296875 \r\nQ 40.140625 3.328125 35.546875 0.953125 \r\nQ 30.953125 -1.421875 24.3125 -1.421875 \r\nQ 15.921875 -1.421875 10.953125 3.296875 \r\nQ 6 8.015625 6 15.921875 \r\nQ 6 25.140625 12.171875 29.828125 \r\nQ 18.359375 34.515625 30.609375 34.515625 \r\nL 43.21875 34.515625 \r\nL 43.21875 35.40625 \r\nQ 43.21875 41.609375 39.140625 45 \r\nQ 35.0625 48.390625 27.6875 48.390625 \r\nQ 23 48.390625 18.546875 47.265625 \r\nQ 14.109375 46.140625 10.015625 43.890625 \r\nL 10.015625 52.203125 \r\nQ 14.9375 54.109375 19.578125 55.046875 \r\nQ 24.21875 56 28.609375 56 \r\nQ 40.484375 56 46.34375 49.84375 \r\nQ 52.203125 43.703125 52.203125 31.203125 \r\nz\r\n\" id=\"DejaVuSans-97\"/>\r\n      <path d=\"M 18.3125 70.21875 \r\nL 18.3125 54.6875 \r\nL 36.8125 54.6875 \r\nL 36.8125 47.703125 \r\nL 18.3125 47.703125 \r\nL 18.3125 18.015625 \r\nQ 18.3125 11.328125 20.140625 9.421875 \r\nQ 21.96875 7.515625 27.59375 7.515625 \r\nL 36.8125 7.515625 \r\nL 36.8125 0 \r\nL 27.59375 0 \r\nQ 17.1875 0 13.234375 3.875 \r\nQ 9.28125 7.765625 9.28125 18.015625 \r\nL 9.28125 47.703125 \r\nL 2.6875 47.703125 \r\nL 2.6875 54.6875 \r\nL 9.28125 54.6875 \r\nL 9.28125 70.21875 \r\nz\r\n\" id=\"DejaVuSans-116\"/>\r\n      <path d=\"M 41.109375 46.296875 \r\nQ 39.59375 47.171875 37.8125 47.578125 \r\nQ 36.03125 48 33.890625 48 \r\nQ 26.265625 48 22.1875 43.046875 \r\nQ 18.109375 38.09375 18.109375 28.8125 \r\nL 18.109375 0 \r\nL 9.078125 0 \r\nL 9.078125 54.6875 \r\nL 18.109375 54.6875 \r\nL 18.109375 46.1875 \r\nQ 20.953125 51.171875 25.484375 53.578125 \r\nQ 30.03125 56 36.53125 56 \r\nQ 37.453125 56 38.578125 55.875 \r\nQ 39.703125 55.765625 41.0625 55.515625 \r\nz\r\n\" id=\"DejaVuSans-114\"/>\r\n      <path d=\"M 9.421875 54.6875 \r\nL 18.40625 54.6875 \r\nL 18.40625 0 \r\nL 9.421875 0 \r\nz\r\nM 9.421875 75.984375 \r\nL 18.40625 75.984375 \r\nL 18.40625 64.59375 \r\nL 9.421875 64.59375 \r\nz\r\n\" id=\"DejaVuSans-105\"/>\r\n      <path d=\"M 5.515625 54.6875 \r\nL 48.1875 54.6875 \r\nL 48.1875 46.484375 \r\nL 14.40625 7.171875 \r\nL 48.1875 7.171875 \r\nL 48.1875 0 \r\nL 4.296875 0 \r\nL 4.296875 8.203125 \r\nL 38.09375 47.515625 \r\nL 5.515625 47.515625 \r\nz\r\n\" id=\"DejaVuSans-122\"/>\r\n      <path id=\"DejaVuSans-32\"/>\r\n      <path d=\"M 45.40625 46.390625 \r\nL 45.40625 75.984375 \r\nL 54.390625 75.984375 \r\nL 54.390625 0 \r\nL 45.40625 0 \r\nL 45.40625 8.203125 \r\nQ 42.578125 3.328125 38.25 0.953125 \r\nQ 33.9375 -1.421875 27.875 -1.421875 \r\nQ 17.96875 -1.421875 11.734375 6.484375 \r\nQ 5.515625 14.40625 5.515625 27.296875 \r\nQ 5.515625 40.1875 11.734375 48.09375 \r\nQ 17.96875 56 27.875 56 \r\nQ 33.9375 56 38.25 53.625 \r\nQ 42.578125 51.265625 45.40625 46.390625 \r\nz\r\nM 14.796875 27.296875 \r\nQ 14.796875 17.390625 18.875 11.75 \r\nQ 22.953125 6.109375 30.078125 6.109375 \r\nQ 37.203125 6.109375 41.296875 11.75 \r\nQ 45.40625 17.390625 45.40625 27.296875 \r\nQ 45.40625 37.203125 41.296875 42.84375 \r\nQ 37.203125 48.484375 30.078125 48.484375 \r\nQ 22.953125 48.484375 18.875 42.84375 \r\nQ 14.796875 37.203125 14.796875 27.296875 \r\nz\r\n\" id=\"DejaVuSans-100\"/>\r\n      <path d=\"M 64.40625 67.28125 \r\nL 64.40625 56.890625 \r\nQ 59.421875 61.53125 53.78125 63.8125 \r\nQ 48.140625 66.109375 41.796875 66.109375 \r\nQ 29.296875 66.109375 22.65625 58.46875 \r\nQ 16.015625 50.828125 16.015625 36.375 \r\nQ 16.015625 21.96875 22.65625 14.328125 \r\nQ 29.296875 6.6875 41.796875 6.6875 \r\nQ 48.140625 6.6875 53.78125 8.984375 \r\nQ 59.421875 11.28125 64.40625 15.921875 \r\nL 64.40625 5.609375 \r\nQ 59.234375 2.09375 53.4375 0.328125 \r\nQ 47.65625 -1.421875 41.21875 -1.421875 \r\nQ 24.65625 -1.421875 15.125 8.703125 \r\nQ 5.609375 18.84375 5.609375 36.375 \r\nQ 5.609375 53.953125 15.125 64.078125 \r\nQ 24.65625 74.21875 41.21875 74.21875 \r\nQ 47.75 74.21875 53.53125 72.484375 \r\nQ 59.328125 70.75 64.40625 67.28125 \r\nz\r\n\" id=\"DejaVuSans-67\"/>\r\n      <path d=\"M 30.609375 48.390625 \r\nQ 23.390625 48.390625 19.1875 42.75 \r\nQ 14.984375 37.109375 14.984375 27.296875 \r\nQ 14.984375 17.484375 19.15625 11.84375 \r\nQ 23.34375 6.203125 30.609375 6.203125 \r\nQ 37.796875 6.203125 41.984375 11.859375 \r\nQ 46.1875 17.53125 46.1875 27.296875 \r\nQ 46.1875 37.015625 41.984375 42.703125 \r\nQ 37.796875 48.390625 30.609375 48.390625 \r\nz\r\nM 30.609375 56 \r\nQ 42.328125 56 49.015625 48.375 \r\nQ 55.71875 40.765625 55.71875 27.296875 \r\nQ 55.71875 13.875 49.015625 6.21875 \r\nQ 42.328125 -1.421875 30.609375 -1.421875 \r\nQ 18.84375 -1.421875 12.171875 6.21875 \r\nQ 5.515625 13.875 5.515625 27.296875 \r\nQ 5.515625 40.765625 12.171875 48.375 \r\nQ 18.84375 56 30.609375 56 \r\nz\r\n\" id=\"DejaVuSans-111\"/>\r\n      <path d=\"M 54.890625 33.015625 \r\nL 54.890625 0 \r\nL 45.90625 0 \r\nL 45.90625 32.71875 \r\nQ 45.90625 40.484375 42.875 44.328125 \r\nQ 39.84375 48.1875 33.796875 48.1875 \r\nQ 26.515625 48.1875 22.3125 43.546875 \r\nQ 18.109375 38.921875 18.109375 30.90625 \r\nL 18.109375 0 \r\nL 9.078125 0 \r\nL 9.078125 54.6875 \r\nL 18.109375 54.6875 \r\nL 18.109375 46.1875 \r\nQ 21.34375 51.125 25.703125 53.5625 \r\nQ 30.078125 56 35.796875 56 \r\nQ 45.21875 56 50.046875 50.171875 \r\nQ 54.890625 44.34375 54.890625 33.015625 \r\nz\r\n\" id=\"DejaVuSans-110\"/>\r\n      <path d=\"M 37.109375 75.984375 \r\nL 37.109375 68.5 \r\nL 28.515625 68.5 \r\nQ 23.6875 68.5 21.796875 66.546875 \r\nQ 19.921875 64.59375 19.921875 59.515625 \r\nL 19.921875 54.6875 \r\nL 34.71875 54.6875 \r\nL 34.71875 47.703125 \r\nL 19.921875 47.703125 \r\nL 19.921875 0 \r\nL 10.890625 0 \r\nL 10.890625 47.703125 \r\nL 2.296875 47.703125 \r\nL 2.296875 54.6875 \r\nL 10.890625 54.6875 \r\nL 10.890625 58.5 \r\nQ 10.890625 67.625 15.140625 71.796875 \r\nQ 19.390625 75.984375 28.609375 75.984375 \r\nz\r\n\" id=\"DejaVuSans-102\"/>\r\n      <path d=\"M 8.5 21.578125 \r\nL 8.5 54.6875 \r\nL 17.484375 54.6875 \r\nL 17.484375 21.921875 \r\nQ 17.484375 14.15625 20.5 10.265625 \r\nQ 23.53125 6.390625 29.59375 6.390625 \r\nQ 36.859375 6.390625 41.078125 11.03125 \r\nQ 45.3125 15.671875 45.3125 23.6875 \r\nL 45.3125 54.6875 \r\nL 54.296875 54.6875 \r\nL 54.296875 0 \r\nL 45.3125 0 \r\nL 45.3125 8.40625 \r\nQ 42.046875 3.421875 37.71875 1 \r\nQ 33.40625 -1.421875 27.6875 -1.421875 \r\nQ 18.265625 -1.421875 13.375 4.4375 \r\nQ 8.5 10.296875 8.5 21.578125 \r\nz\r\nM 31.109375 56 \r\nz\r\n\" id=\"DejaVuSans-117\"/>\r\n      <path d=\"M 44.28125 53.078125 \r\nL 44.28125 44.578125 \r\nQ 40.484375 46.53125 36.375 47.5 \r\nQ 32.28125 48.484375 27.875 48.484375 \r\nQ 21.1875 48.484375 17.84375 46.4375 \r\nQ 14.5 44.390625 14.5 40.28125 \r\nQ 14.5 37.15625 16.890625 35.375 \r\nQ 19.28125 33.59375 26.515625 31.984375 \r\nL 29.59375 31.296875 \r\nQ 39.15625 29.25 43.1875 25.515625 \r\nQ 47.21875 21.78125 47.21875 15.09375 \r\nQ 47.21875 7.46875 41.1875 3.015625 \r\nQ 35.15625 -1.421875 24.609375 -1.421875 \r\nQ 20.21875 -1.421875 15.453125 -0.5625 \r\nQ 10.6875 0.296875 5.421875 2 \r\nL 5.421875 11.28125 \r\nQ 10.40625 8.6875 15.234375 7.390625 \r\nQ 20.0625 6.109375 24.8125 6.109375 \r\nQ 31.15625 6.109375 34.5625 8.28125 \r\nQ 37.984375 10.453125 37.984375 14.40625 \r\nQ 37.984375 18.0625 35.515625 20.015625 \r\nQ 33.0625 21.96875 24.703125 23.78125 \r\nL 21.578125 24.515625 \r\nQ 13.234375 26.265625 9.515625 29.90625 \r\nQ 5.8125 33.546875 5.8125 39.890625 \r\nQ 5.8125 47.609375 11.28125 51.796875 \r\nQ 16.75 56 26.8125 56 \r\nQ 31.78125 56 36.171875 55.265625 \r\nQ 40.578125 54.546875 44.28125 53.078125 \r\nz\r\n\" id=\"DejaVuSans-115\"/>\r\n      <path d=\"M 34.28125 27.484375 \r\nQ 23.390625 27.484375 19.1875 25 \r\nQ 14.984375 22.515625 14.984375 16.5 \r\nQ 14.984375 11.71875 18.140625 8.90625 \r\nQ 21.296875 6.109375 26.703125 6.109375 \r\nQ 34.1875 6.109375 38.703125 11.40625 \r\nQ 43.21875 16.703125 43.21875 25.484375 \r\nL 43.21875 27.484375 \r\nz\r\nM 52.203125 31.203125 \r\nL 52.203125 0 \r\nL 43.21875 0 \r\nL 43.21875 8.296875 \r\nQ 40.140625 3.328125 35.546875 0.953125 \r\nQ 30.953125 -1.421875 24.3125 -1.421875 \r\nQ 15.921875 -1.421875 10.953125 3.296875 \r\nQ 6 8.015625 6 15.921875 \r\nQ 6 25.140625 12.171875 29.828125 \r\nQ 18.359375 34.515625 30.609375 34.515625 \r\nL 43.21875 34.515625 \r\nL 43.21875 35.40625 \r\nQ 43.21875 41.609375 39.140625 45 \r\nQ 35.0625 48.390625 27.6875 48.390625 \r\nQ 23 48.390625 18.546875 47.265625 \r\nQ 14.109375 46.140625 10.015625 43.890625 \r\nL 10.015625 52.203125 \r\nQ 14.9375 54.109375 19.578125 55.046875 \r\nQ 24.21875 56 28.609375 56 \r\nQ 40.484375 56 46.34375 49.84375 \r\nQ 52.203125 43.703125 52.203125 31.203125 \r\nz\r\nM 28.8125 66.890625 \r\nL 26.015625 69.578125 \r\nQ 24.953125 70.5625 24.140625 71.015625 \r\nQ 23.34375 71.484375 22.703125 71.484375 \r\nQ 20.84375 71.484375 19.96875 69.703125 \r\nQ 19.09375 67.921875 18.984375 63.921875 \r\nL 12.890625 63.921875 \r\nQ 12.984375 70.515625 15.46875 74.09375 \r\nQ 17.96875 77.6875 22.40625 77.6875 \r\nQ 24.265625 77.6875 25.828125 77 \r\nQ 27.390625 76.3125 29.203125 74.703125 \r\nL 31.984375 72.015625 \r\nQ 33.046875 71.046875 33.859375 70.578125 \r\nQ 34.671875 70.125 35.296875 70.125 \r\nQ 37.15625 70.125 38.03125 71.90625 \r\nQ 38.90625 73.6875 39.015625 77.6875 \r\nL 45.109375 77.6875 \r\nQ 45.015625 71.09375 42.515625 67.5 \r\nQ 40.03125 63.921875 35.59375 63.921875 \r\nQ 33.734375 63.921875 32.171875 64.59375 \r\nQ 30.609375 65.28125 28.8125 66.890625 \r\nz\r\n\" id=\"DejaVuSans-227\"/>\r\n     </defs>\r\n     <use xlink:href=\"#DejaVuSans-77\"/>\r\n     <use x=\"86.279297\" xlink:href=\"#DejaVuSans-97\"/>\r\n     <use x=\"147.558594\" xlink:href=\"#DejaVuSans-116\"/>\r\n     <use x=\"186.767578\" xlink:href=\"#DejaVuSans-114\"/>\r\n     <use x=\"227.880859\" xlink:href=\"#DejaVuSans-105\"/>\r\n     <use x=\"255.664062\" xlink:href=\"#DejaVuSans-122\"/>\r\n     <use x=\"308.154297\" xlink:href=\"#DejaVuSans-32\"/>\r\n     <use x=\"339.941406\" xlink:href=\"#DejaVuSans-100\"/>\r\n     <use x=\"403.417969\" xlink:href=\"#DejaVuSans-101\"/>\r\n     <use x=\"464.941406\" xlink:href=\"#DejaVuSans-32\"/>\r\n     <use x=\"496.728516\" xlink:href=\"#DejaVuSans-67\"/>\r\n     <use x=\"566.552734\" xlink:href=\"#DejaVuSans-111\"/>\r\n     <use x=\"627.734375\" xlink:href=\"#DejaVuSans-110\"/>\r\n     <use x=\"691.113281\" xlink:href=\"#DejaVuSans-102\"/>\r\n     <use x=\"726.318359\" xlink:href=\"#DejaVuSans-117\"/>\r\n     <use x=\"789.697266\" xlink:href=\"#DejaVuSans-115\"/>\r\n     <use x=\"841.796875\" xlink:href=\"#DejaVuSans-227\"/>\r\n     <use x=\"903.076172\" xlink:href=\"#DejaVuSans-111\"/>\r\n    </g>\r\n   </g>\r\n  </g>\r\n  <g id=\"axes_2\">\r\n   <g id=\"patch_3\">\r\n    <path clip-path=\"url(#p4d8cc05a0a)\" d=\"M 593.038125 348.478125 \r\nL 593.038125 347.204062 \r\nL 593.038125 23.592187 \r\nL 593.038125 22.318125 \r\nL 609.346125 22.318125 \r\nL 609.346125 23.592187 \r\nL 609.346125 347.204062 \r\nL 609.346125 348.478125 \r\nz\r\n\" style=\"fill:#ffffff;stroke:#ffffff;stroke-linejoin:miter;stroke-width:0.01;\"/>\r\n   </g>\r\n   <image height=\"326\" id=\"image0ab5907ce0\" transform=\"scale(1 -1)translate(0 -326)\" width=\"16\" x=\"593\" xlink:href=\"data:image/png;base64,\r\niVBORw0KGgoAAAANSUhEUgAAABAAAAFGCAYAAABjUx8/AAABiElEQVR4nO2bMQ7DMAwD1SL/f2uXrlaHPuEEkBbY3YJ8JkUnQV/9/XSB31ON1tdTRQvgDmCBN1pdYfDvgDOgHailPABRrQO9lDnEDoMFOogbTRjgArcr0UFIagZP9UEFHCAetgULIYm3wDug6TwAkevg9lNwcCOGeORCul4HK0Ya1MEERLUb+SNPhGQhpPsh5pa2AGLuBxZjPRAtIIZBhOQwlfXHGIge9wO1mSwgRkgGHygCUc8gEJcwoAU6EKPEFRBXMAhEhwLyz0T85Ty/7ssZqLfAITp8uBZvQX8KceMON8L3Dw4QDdyoPsYdSlQzkA9VfS5scCMdaQbRBtcbdLAB4lF3YDDWB5TICkRIgTjUQXIBK3GCAS6ghqh/ASGfyjxY4HoLN+IOYIENDOBQtshG+qcwuZAc3KiHaMAAFjiBOGEmcbQ55AIvcP0jD08mXECdzhZCggX4wzfswECJeCLRYBlgoB6qgeigxAkzqeM9EA0Y4A4m3Hg7RINow3ekQIwSawVEzOAHuXD9DMxeX6gAAAAASUVORK5CYII=\" y=\"-22\"/>\r\n   <g id=\"matplotlib.axis_3\"/>\r\n   <g id=\"matplotlib.axis_4\">\r\n    <g id=\"ytick_8\">\r\n     <g id=\"line2d_15\">\r\n      <defs>\r\n       <path d=\"M 0 0 \r\nL 3.5 0 \r\n\" id=\"m1f97e25429\" style=\"stroke:#000000;stroke-width:0.8;\"/>\r\n      </defs>\r\n      <g>\r\n       <use style=\"stroke:#000000;stroke-width:0.8;\" x=\"609.346125\" xlink:href=\"#m1f97e25429\" y=\"348.478125\"/>\r\n      </g>\r\n     </g>\r\n     <g id=\"text_65\">\r\n      <!-- 0 -->\r\n      <g transform=\"translate(616.346125 352.277344)scale(0.1 -0.1)\">\r\n       <use xlink:href=\"#DejaVuSans-48\"/>\r\n      </g>\r\n     </g>\r\n    </g>\r\n    <g id=\"ytick_9\">\r\n     <g id=\"line2d_16\">\r\n      <g>\r\n       <use style=\"stroke:#000000;stroke-width:0.8;\" x=\"609.346125\" xlink:href=\"#m1f97e25429\" y=\"301.649697\"/>\r\n      </g>\r\n     </g>\r\n     <g id=\"text_66\">\r\n      <!-- 10000 -->\r\n      <g transform=\"translate(616.346125 305.448916)scale(0.1 -0.1)\">\r\n       <use xlink:href=\"#DejaVuSans-49\"/>\r\n       <use x=\"63.623047\" xlink:href=\"#DejaVuSans-48\"/>\r\n       <use x=\"127.246094\" xlink:href=\"#DejaVuSans-48\"/>\r\n       <use x=\"190.869141\" xlink:href=\"#DejaVuSans-48\"/>\r\n       <use x=\"254.492188\" xlink:href=\"#DejaVuSans-48\"/>\r\n      </g>\r\n     </g>\r\n    </g>\r\n    <g id=\"ytick_10\">\r\n     <g id=\"line2d_17\">\r\n      <g>\r\n       <use style=\"stroke:#000000;stroke-width:0.8;\" x=\"609.346125\" xlink:href=\"#m1f97e25429\" y=\"254.821269\"/>\r\n      </g>\r\n     </g>\r\n     <g id=\"text_67\">\r\n      <!-- 20000 -->\r\n      <g transform=\"translate(616.346125 258.620488)scale(0.1 -0.1)\">\r\n       <use xlink:href=\"#DejaVuSans-50\"/>\r\n       <use x=\"63.623047\" xlink:href=\"#DejaVuSans-48\"/>\r\n       <use x=\"127.246094\" xlink:href=\"#DejaVuSans-48\"/>\r\n       <use x=\"190.869141\" xlink:href=\"#DejaVuSans-48\"/>\r\n       <use x=\"254.492188\" xlink:href=\"#DejaVuSans-48\"/>\r\n      </g>\r\n     </g>\r\n    </g>\r\n    <g id=\"ytick_11\">\r\n     <g id=\"line2d_18\">\r\n      <g>\r\n       <use style=\"stroke:#000000;stroke-width:0.8;\" x=\"609.346125\" xlink:href=\"#m1f97e25429\" y=\"207.992841\"/>\r\n      </g>\r\n     </g>\r\n     <g id=\"text_68\">\r\n      <!-- 30000 -->\r\n      <g transform=\"translate(616.346125 211.79206)scale(0.1 -0.1)\">\r\n       <use xlink:href=\"#DejaVuSans-51\"/>\r\n       <use x=\"63.623047\" xlink:href=\"#DejaVuSans-48\"/>\r\n       <use x=\"127.246094\" xlink:href=\"#DejaVuSans-48\"/>\r\n       <use x=\"190.869141\" xlink:href=\"#DejaVuSans-48\"/>\r\n       <use x=\"254.492188\" xlink:href=\"#DejaVuSans-48\"/>\r\n      </g>\r\n     </g>\r\n    </g>\r\n    <g id=\"ytick_12\">\r\n     <g id=\"line2d_19\">\r\n      <g>\r\n       <use style=\"stroke:#000000;stroke-width:0.8;\" x=\"609.346125\" xlink:href=\"#m1f97e25429\" y=\"161.164414\"/>\r\n      </g>\r\n     </g>\r\n     <g id=\"text_69\">\r\n      <!-- 40000 -->\r\n      <g transform=\"translate(616.346125 164.963632)scale(0.1 -0.1)\">\r\n       <use xlink:href=\"#DejaVuSans-52\"/>\r\n       <use x=\"63.623047\" xlink:href=\"#DejaVuSans-48\"/>\r\n       <use x=\"127.246094\" xlink:href=\"#DejaVuSans-48\"/>\r\n       <use x=\"190.869141\" xlink:href=\"#DejaVuSans-48\"/>\r\n       <use x=\"254.492188\" xlink:href=\"#DejaVuSans-48\"/>\r\n      </g>\r\n     </g>\r\n    </g>\r\n    <g id=\"ytick_13\">\r\n     <g id=\"line2d_20\">\r\n      <g>\r\n       <use style=\"stroke:#000000;stroke-width:0.8;\" x=\"609.346125\" xlink:href=\"#m1f97e25429\" y=\"114.335986\"/>\r\n      </g>\r\n     </g>\r\n     <g id=\"text_70\">\r\n      <!-- 50000 -->\r\n      <g transform=\"translate(616.346125 118.135204)scale(0.1 -0.1)\">\r\n       <use xlink:href=\"#DejaVuSans-53\"/>\r\n       <use x=\"63.623047\" xlink:href=\"#DejaVuSans-48\"/>\r\n       <use x=\"127.246094\" xlink:href=\"#DejaVuSans-48\"/>\r\n       <use x=\"190.869141\" xlink:href=\"#DejaVuSans-48\"/>\r\n       <use x=\"254.492188\" xlink:href=\"#DejaVuSans-48\"/>\r\n      </g>\r\n     </g>\r\n    </g>\r\n    <g id=\"ytick_14\">\r\n     <g id=\"line2d_21\">\r\n      <g>\r\n       <use style=\"stroke:#000000;stroke-width:0.8;\" x=\"609.346125\" xlink:href=\"#m1f97e25429\" y=\"67.507558\"/>\r\n      </g>\r\n     </g>\r\n     <g id=\"text_71\">\r\n      <!-- 60000 -->\r\n      <g transform=\"translate(616.346125 71.306777)scale(0.1 -0.1)\">\r\n       <use xlink:href=\"#DejaVuSans-54\"/>\r\n       <use x=\"63.623047\" xlink:href=\"#DejaVuSans-48\"/>\r\n       <use x=\"127.246094\" xlink:href=\"#DejaVuSans-48\"/>\r\n       <use x=\"190.869141\" xlink:href=\"#DejaVuSans-48\"/>\r\n       <use x=\"254.492188\" xlink:href=\"#DejaVuSans-48\"/>\r\n      </g>\r\n     </g>\r\n    </g>\r\n   </g>\r\n   <g id=\"patch_4\">\r\n    <path d=\"M 593.038125 348.478125 \r\nL 593.038125 347.204062 \r\nL 593.038125 23.592187 \r\nL 593.038125 22.318125 \r\nL 609.346125 22.318125 \r\nL 609.346125 23.592187 \r\nL 609.346125 347.204062 \r\nL 609.346125 348.478125 \r\nz\r\n\" style=\"fill:none;\"/>\r\n   </g>\r\n  </g>\r\n </g>\r\n <defs>\r\n  <clipPath id=\"p7bd7c1bb40\">\r\n   <rect height=\"326.16\" width=\"535.68\" x=\"23.878125\" y=\"22.318125\"/>\r\n  </clipPath>\r\n  <clipPath id=\"p4d8cc05a0a\">\r\n   <rect height=\"326.16\" width=\"16.308\" x=\"593.038125\" y=\"22.318125\"/>\r\n  </clipPath>\r\n </defs>\r\n</svg>\r\n",
      "image/png": "[encoded data removed]"
     },
     "metadata": {
      "needs_background": "light"
     }
    }
   ],
   "source": [
    "#predizer saidas do conjunto de teste, conforme treino da Rede\n",
    "y_predictions = rnm.predict(X_test_std)\n",
    "#gerar matriz de confusão\n",
    "conf_matrix = confusion_matrix(y_test, y_predictions)\n",
    "#plotar matriz\n",
    "fig, ax = plt.subplots(figsize=(12,6))\n",
    "ax.set_title(\"Matriz de Confusão\", fontsize=12)\n",
    "sns.heatmap(conf_matrix, annot=True, cmap='Reds')\n"
   ]
  },
  {
   "cell_type": "code",
   "execution_count": 7,
   "metadata": {},
   "outputs": [
    {
     "output_type": "stream",
     "name": "stdout",
     "text": [
      "Sobre essa base de dados é possível inferir os valores para as seguintes métricas de desempenho:\n\tAcurácia: 0.7571426932256288\n\tF-Score: 0.5827698934859471\n\tPrecisão: 0.6889571383218324\n\tRevocação: 0.5532680093193568\n"
     ]
    }
   ],
   "source": [
    "\n",
    "print(\"Sobre essa base de dados é possível inferir os valores para as seguintes métricas de desempenho:\")\n",
    "\n",
    "print('\\tAcurácia:',accuracy_score(y_test, y_predictions))\n",
    "print('\\tF-Score:',f1_score(y_test, y_predictions, average= 'macro'))\n",
    "print('\\tPrecisão:',precision_score(y_test, y_predictions, average= 'macro'))\n",
    "print('\\tRevocação:',recall_score(y_test, y_predictions, average= 'macro'))\n"
   ]
  },
  {
   "cell_type": "code",
   "execution_count": 8,
   "metadata": {},
   "outputs": [],
   "source": [
    "def calc_medidas(acuracia,f1score):\n",
    "    print(\"\\tMédia da Acurácia: \",np.mean(acuracia))\n",
    "    print(\"\\tDesvio Padrão da Acurácia: \", np.std(acuracia))\n",
    "    print(\"\\tMédia do F1-Score: \", np.mean(f1score))\n",
    "    print(\"\\tDesvio Padrão do F1-Score: \", np.std(f1score))"
   ]
  },
  {
   "cell_type": "code",
   "execution_count": 9,
   "metadata": {},
   "outputs": [],
   "source": [
    "# Treino da rede neural multilayer(RNM) Sem impressão de interação e 100 repetições. **optamos por 10 repetições\n",
    "\n",
    "\n",
    "def treino_100_rep(solver_):\n",
    "    acuracia=[]\n",
    "    f1 = []\n",
    "\n",
    "    for i in range(10):\n",
    "        #a cada repetição uma nova partição\n",
    "        x_train, x_test, y_train, y_test = train_test_split(x, y, test_size = 0.3)\n",
    "        #escalonamento\n",
    "        X_train_std = (x_train - np.mean(x_train))/np.std(x_train)\n",
    "        X_test_std = (x_test - np.mean(x_train))/np.std(x_train)\n",
    "\n",
    "        #treino\n",
    "        epochs=300\n",
    "        rnm=MLPClassifier(hidden_layer_sizes= (10,), activation= \"relu\", solver= solver_, max_iter= epochs, verbose= False)\n",
    "        rnm.fit(X_train_std, y_train)\n",
    "\n",
    "        predictions = rnm.predict(X_test_std)\n",
    "    \n",
    "        acuracia.append((accuracy_score(y_test,predictions)))\n",
    "        f1.append((f1_score(y_test,predictions, average= 'macro')))\n",
    "    calc_medidas(acuracia,f1)\n"
   ]
  },
  {
   "cell_type": "code",
   "execution_count": 11,
   "metadata": {},
   "outputs": [
    {
     "output_type": "stream",
     "name": "stdout",
     "text": [
      "\tMédia da Acurácia:  0.7551329860473656\n\tDesvio Padrão da Acurácia:  0.0022877420974105854\n\tMédia do F1-Score:  0.5904747496530152\n\tDesvio Padrão do F1-Score:  0.010543781271409706\n"
     ]
    }
   ],
   "source": [
    "# Treino da rede neural multilayer(RNM) // Repetido 10 vezes e utilizando o otimizador ADAM. \n",
    "solver= 'adam'\n",
    "treino_100_rep(solver)"
   ]
  },
  {
   "cell_type": "code",
   "execution_count": 12,
   "metadata": {},
   "outputs": [
    {
     "output_type": "stream",
     "name": "stdout",
     "text": [
      "\tMédia da Acurácia:  0.7551238066825776\n\tDesvio Padrão da Acurácia:  0.0031873812333305467\n\tMédia do F1-Score:  0.5750334996417202\n\tDesvio Padrão do F1-Score:  0.011641852917561198\n"
     ]
    }
   ],
   "source": [
    "# Treino da rede neural multilayer(RNM) // Repetido 10 vezes e utilizando o otimizador SGD. \n",
    "solver= 'sgd'\n",
    "treino_100_rep(solver)"
   ]
  },
  {
   "cell_type": "code",
   "execution_count": 17,
   "metadata": {},
   "outputs": [
    {
     "output_type": "stream",
     "name": "stdout",
     "text": [
      "Há influência na escolha do otimizador no desempenho da rede, percebe-se uma necessidade maior de processamento referente oo 'SGD' em relação ao 'Adam',com a utilização do otimizador 'SGD' também há um maior desvio  dentre as métricas de desempenho, mesmo que a média se aproxime bastante. \n"
     ]
    }
   ],
   "source": [
    "print(\"Há influência na escolha do otimizador no desempenho da rede, percebe-se uma necessidade maior de processamento referente oo 'SGD' em relação ao 'Adam',com a utilização do otimizador 'SGD' também há um maior desvio  dentre as métricas de desempenho, mesmo que a média se aproxime bastante. \")"
   ]
  },
  {
   "cell_type": "markdown",
   "metadata": {},
   "source": [
    "## Discussão\n",
    "\n",
    "Nos passos anteriores, você avaliou o desempenho de uma única rede neural que contém os seguintes parâmetros: uma única camada oculta com 10 neurônios e função de ativação ReLU. O otimizador utilizado, quer seja SGD ou ADAM, trata-se do algoritmo para aproximar o gradiente do erro. Neste sentido, a escolha do otimizador é um hiperparâmetro, pois diz respeito a como a rede neural definida previamente atuará \"em tempo de execução\"  durante o processo de treinamento. Também são hiperparâmetros a quantidade de épocas, a taxa de aprendizado inicial, dentre outros.\n",
    "\n",
    "Cabe alientar também que você efetuou o treinamento desta rede por 100 vezes e apresentou os resultados em termos de média +- desvio padrão. Lembre-se que em uma rede neural há a inicialização aleatória de pesos e, em consequência, o desempenho delas está sujeito à uma flutuação estocástica. A execução destas múltiplas vezes faz com que eliminemos algum viés introduzido por uma boa ou má \"sorte\" na escolha de pesos no caso de uma única execução.\n",
    "\n",
    "Você também aprendeu uma estratégia para escalonar os atributos para uma melhor convergência da rede. Utilize-a em todos os treinamentos e testes propostos a seguir.\n",
    "\n",
    "## Propondo Novas Arquiteturas\n",
    "\n",
    "Variando  os parâmetros (uma ou duas camadas ocultas, com diferente números de neurônios em cada uma delas e a função de ativação) e o hiperparâmetros solver (Adam ou SGD) e o número de épocas (100,150 e 200), atenda ao que se pede:\n",
    "\n",
    "1. Proponha 10 arquiteturas distintas de RNAs para o problema em questão, à sua escolha\n",
    "2. Avalie cada uma das arquiteturas perante todos os hiperparâmetros apresentados por 100 vezes\n",
    "3. Como resultado da avaliação, apresente:  \n",
    "    3.1 Top-3 melhores redes no tocante à F-Score e Acurácia  \n",
    "    3.2 Repetição em que houve o melhor desempenho de cada uma dessas redes: ilustre tp, tf, fp e fn  "
   ]
  },
  {
   "cell_type": "code",
   "execution_count": 13,
   "metadata": {},
   "outputs": [
    {
     "output_type": "stream",
     "name": "stdout",
     "text": [
      "ARQUITETURA 1:\n\tMédia da Acurácia:  0.7236506333761704\n\tDesvio Padrão da Acurácia:  0.0014867640141300949\n\tMédia do F1-Score:  0.5254933444117109\n\tDesvio Padrão do F1-Score:  0.004654729339944498\nARQUITETURA 2:\n\tMédia da Acurácia:  0.7237923398200844\n\tDesvio Padrão da Acurácia:  0.0009152089160852504\n\tMédia do F1-Score:  0.5206183459998264\n\tDesvio Padrão do F1-Score:  0.006083755293123124\nARQUITETURA 3:\n\tMédia da Acurácia:  0.724013791995594\n\tDesvio Padrão da Acurácia:  0.0012286706265041954\n\tMédia do F1-Score:  0.5234227575447081\n\tDesvio Padrão do F1-Score:  0.004974959163442054\nARQUITETURA 4:\n\tMédia da Acurácia:  0.7475278823205436\n\tDesvio Padrão da Acurácia:  0.0023873828265810414\n\tMédia do F1-Score:  0.519838727296719\n\tDesvio Padrão do F1-Score:  0.05026421068458\nARQUITETURA 5:\n\tMédia da Acurácia:  0.7365992748301818\n\tDesvio Padrão da Acurácia:  0.0017244586427014358\n\tMédia do F1-Score:  0.45330906502698853\n\tDesvio Padrão do F1-Score:  0.009663557518109989\nARQUITETURA 6:\n\tMédia da Acurácia:  0.7341535478244905\n\tDesvio Padrão da Acurácia:  0.0023189345456546373\n\tMédia do F1-Score:  0.4678554462941401\n\tDesvio Padrão do F1-Score:  0.026464063216745385\nARQUITETURA 7:\n\tMédia da Acurácia:  0.7260780016522856\n\tDesvio Padrão da Acurácia:  0.0035534942092626193\n\tMédia do F1-Score:  0.41735087437053764\n\tDesvio Padrão do F1-Score:  0.012363027863423326\nARQUITETURA 8:\n\tMédia da Acurácia:  0.7196690838993941\n\tDesvio Padrão da Acurácia:  0.003179038258869816\n\tMédia do F1-Score:  0.4057939653452034\n\tDesvio Padrão do F1-Score:  0.007857206753702889\nARQUITETURA 9:\n\tMédia da Acurácia:  0.6798432623462456\n\tDesvio Padrão da Acurácia:  0.02167532803496887\n\tMédia do F1-Score:  0.3018604360291647\n\tDesvio Padrão do F1-Score:  0.009253280395023896\nARQUITETURA 10:\n\tMédia da Acurácia:  0.7543647879566734\n\tDesvio Padrão da Acurácia:  0.0030504353028813144\n\tMédia do F1-Score:  0.5725074715119107\n\tDesvio Padrão do F1-Score:  0.00917827687882687\n"
     ]
    }
   ],
   "source": [
    "#possibilidades >>> solver:{‘sgd’, ‘adam’}  ; activation: {‘identity’, ‘logistic’, ‘tanh’, ‘relu’} dentre outras\n",
    "\n",
    "acuracia_1 =[]\n",
    "f1_1 = []\n",
    "acuracia_2 =[]\n",
    "f1_2 = []\n",
    "acuracia_3 =[]\n",
    "f1_3 = []\n",
    "acuracia_4 =[]\n",
    "f1_4 = []\n",
    "acuracia_5 =[]\n",
    "f1_5 = []\n",
    "acuracia_6 =[]\n",
    "f1_6 = []\n",
    "acuracia_7 =[]\n",
    "f1_7 = []\n",
    "acuracia_8 =[]\n",
    "f1_8 = []\n",
    "acuracia_9 =[]\n",
    "f1_9 = []\n",
    "acuracia_10=[]\n",
    "f1_10 = []\n",
    "\n",
    "\n",
    "for i in range(10):\n",
    "    #a cada repetição uma nova partição\n",
    "    x_train, x_test, y_train, y_test = train_test_split(x, y, test_size = 0.3)\n",
    "    #escalonamento\n",
    "    X_train_std = (x_train - np.mean(x_train))/np.std(x_train)\n",
    "    X_test_std = (x_test - np.mean(x_train))/np.std(x_train)\n",
    "\n",
    "    # Arquitetura 1\n",
    "    epochs=100\n",
    "    rnm=MLPClassifier(hidden_layer_sizes= (9,), activation= \"identity\", solver= 'adam', max_iter= epochs, verbose= False)\n",
    "    rnm.fit(X_train_std, y_train)\n",
    "    \n",
    "    predictions = rnm.predict(X_test_std)\n",
    "    \n",
    "    acuracia_1.append((accuracy_score(y_test,predictions)))\n",
    "    f1_1.append((f1_score(y_test,predictions, average= 'macro')))\n",
    "\n",
    "\n",
    "    # Arquitetura 2\n",
    "    epochs=150\n",
    "    rnm=MLPClassifier(hidden_layer_sizes= (8,), activation= \"identity\", solver= 'sgd', max_iter= epochs, verbose= False)\n",
    "    rnm.fit(X_train_std, y_train)\n",
    "    \n",
    "    predictions = rnm.predict(X_test_std)\n",
    "    \n",
    "    acuracia_2.append((accuracy_score(y_test,predictions)))\n",
    "    f1_2.append((f1_score(y_test,predictions, average= 'macro')))\n",
    "\n",
    "\n",
    "    # Arquitetura 3\n",
    "    epochs=200\n",
    "    rnm=MLPClassifier(hidden_layer_sizes= (7,), activation= \"identity\", solver= 'adam', max_iter= epochs, verbose= False)\n",
    "    rnm.fit(X_train_std, y_train)\n",
    "    \n",
    "    predictions = rnm.predict(X_test_std)\n",
    "    \n",
    "    acuracia_3.append((accuracy_score(y_test,predictions)))\n",
    "    f1_3.append((f1_score(y_test,predictions, average= 'macro')))\n",
    "\n",
    "    # Arquitetura 4\n",
    "    epochs=100\n",
    "    rnm=MLPClassifier(hidden_layer_sizes= (6,), activation= \"logistic\", solver= 'adam', max_iter= epochs, verbose= False)\n",
    "    rnm.fit(X_train_std, y_train)\n",
    "    \n",
    "    predictions = rnm.predict(X_test_std)\n",
    "    \n",
    "    acuracia_4.append((accuracy_score(y_test,predictions)))\n",
    "    f1_4.append((f1_score(y_test,predictions, average= 'macro')))\n",
    "\n",
    "    # Arquitetura 5\n",
    "    epochs=150\n",
    "    rnm=MLPClassifier(hidden_layer_sizes= (5,), activation= \"logistic\", solver= 'sgd', max_iter= epochs, verbose= False)\n",
    "    rnm.fit(X_train_std, y_train)\n",
    "    \n",
    "    predictions = rnm.predict(X_test_std)\n",
    "    \n",
    "    acuracia_5.append((accuracy_score(y_test,predictions)))\n",
    "    f1_5.append((f1_score(y_test,predictions, average= 'macro')))\n",
    "\n",
    "    # Arquitetura 6\n",
    "    epochs=200\n",
    "    rnm=MLPClassifier(hidden_layer_sizes= (4,), activation= \"logistic\", solver= 'adam', max_iter= epochs, verbose= False)\n",
    "    rnm.fit(X_train_std, y_train)\n",
    "    \n",
    "    predictions = rnm.predict(X_test_std)\n",
    "    \n",
    "    acuracia_6.append((accuracy_score(y_test,predictions)))\n",
    "    f1_6.append((f1_score(y_test,predictions, average= 'macro')))\n",
    "\n",
    "    # Arquitetura 7\n",
    "    epochs=100\n",
    "    rnm=MLPClassifier(hidden_layer_sizes= (3,), activation= \"tanh\", solver= 'adam', max_iter= epochs, verbose= False)\n",
    "    rnm.fit(X_train_std, y_train)\n",
    "    \n",
    "    predictions = rnm.predict(X_test_std)\n",
    "    \n",
    "    acuracia_7.append((accuracy_score(y_test,predictions)))\n",
    "    f1_7.append((f1_score(y_test,predictions, average= 'macro')))\n",
    "\n",
    "    # Arquitetura 8\n",
    "    epochs=150\n",
    "    rnm=MLPClassifier(hidden_layer_sizes= (2,), activation= \"tanh\", solver= 'sgd', max_iter= epochs, verbose= False)\n",
    "    rnm.fit(X_train_std, y_train)\n",
    "    \n",
    "    predictions = rnm.predict(X_test_std)\n",
    "    \n",
    "    acuracia_8.append((accuracy_score(y_test,predictions)))\n",
    "    f1_8.append((f1_score(y_test,predictions, average= 'macro')))\n",
    "\n",
    "    # Arquitetura 9\n",
    "    epochs=200\n",
    "    rnm=MLPClassifier(hidden_layer_sizes= (1,), activation= \"tanh\", solver= 'adam', max_iter= epochs, verbose= False)\n",
    "    rnm.fit(X_train_std, y_train)\n",
    "    \n",
    "    predictions = rnm.predict(X_test_std)\n",
    "    \n",
    "    acuracia_9.append((accuracy_score(y_test,predictions)))\n",
    "    f1_9.append((f1_score(y_test,predictions, average= 'macro')))\n",
    "\n",
    "    # Arquitetura 10\n",
    "    epochs=100\n",
    "    rnm=MLPClassifier(hidden_layer_sizes= (11,), activation= \"relu\", solver= 'sgd', max_iter= epochs, verbose= False)\n",
    "    rnm.fit(X_train_std, y_train)\n",
    "    \n",
    "    predictions = rnm.predict(X_test_std)\n",
    "    \n",
    "    acuracia_10.append((accuracy_score(y_test,predictions)))\n",
    "    f1_10.append((f1_score(y_test,predictions, average= 'macro')))\n",
    "\n",
    "print(\"ARQUITETURA 1:\")\n",
    "calc_medidas(acuracia_1,f1_1)\n",
    "print(\"ARQUITETURA 2:\")\n",
    "calc_medidas(acuracia_2,f1_2)\n",
    "print(\"ARQUITETURA 3:\")\n",
    "calc_medidas(acuracia_3,f1_3)\n",
    "print(\"ARQUITETURA 4:\")\n",
    "calc_medidas(acuracia_4,f1_4)\n",
    "print(\"ARQUITETURA 5:\")\n",
    "calc_medidas(acuracia_5,f1_5)\n",
    "print(\"ARQUITETURA 6:\")\n",
    "calc_medidas(acuracia_6,f1_6)\n",
    "print(\"ARQUITETURA 7:\")\n",
    "calc_medidas(acuracia_7,f1_7)\n",
    "print(\"ARQUITETURA 8:\")\n",
    "calc_medidas(acuracia_8,f1_8)\n",
    "print(\"ARQUITETURA 9:\")\n",
    "calc_medidas(acuracia_9,f1_9)\n",
    "print(\"ARQUITETURA 10:\")\n",
    "calc_medidas(acuracia_10,f1_10)"
   ]
  },
  {
   "cell_type": "code",
   "execution_count": 14,
   "metadata": {},
   "outputs": [
    {
     "output_type": "stream",
     "name": "stdout",
     "text": [
      "Top 3: \nARQUITETURA 10 \nARQUITETURA 6 \nARQUITETURA 4\n"
     ]
    }
   ],
   "source": [
    "print(\"Top 3: \")\n",
    "print(\"ARQUITETURA 10 \")\n",
    "print(\"ARQUITETURA 6 \")\n",
    "print(\"ARQUITETURA 4\")"
   ]
  },
  {
   "cell_type": "markdown",
   "metadata": {},
   "source": [
    "## Estimando o número de neurônios\n",
    "\n",
    "Um dos problemas de pesquisa com redes neurais artificiais consiste na determinação do número de neurônios em sua arquitetura. Embora não seja possível definir a priori qual rede neural é adequada para um problema, pois isto só é possível mediante uma busca exaustiva, há regras na literatura que sugerem o número de neurônios escondidos, tal como a regra da Pirâmide Geométrica, dada a seguir:\n",
    "\n",
    "$$N_h = \\alpha \\cdot \\sqrt{N_i \\cdot N_o},$$\n",
    "\n",
    "em que $N_h$ é o número de neurônios ocultos (a serem distribuídos em uma ou duas camadas ocultas), $N_i$ é o número de neurônios na camada de entrada e $N_o$ é o número de neurônios na camada de saída. \n",
    "\n",
    "1. Consulte a documentação da classe MLPClassifier (disponível em https://scikit-learn.org/stable/modules/generated/sklearn.neural_network.MLPClassifier.html) e obtenha os valores de $N_i$ e $N_h$.\n",
    "2. Teste os valores de $\\alpha$ como sendo iguais a $0.5$, $2$ e $3$.\n",
    "3. Proponha pelo menos 30 redes neurais segundo a regra da pirâmide geométrica e teste-as nos mesmos termos estabelecidos anterioremente  (solver, épocas, etc.)  \n",
    "    3.1 Apresente as top-3 melhores redes no tocante à F-Score e Acurácia  "
   ]
  },
  {
   "cell_type": "code",
   "execution_count": null,
   "metadata": {},
   "outputs": [],
   "source": []
  },
  {
   "cell_type": "markdown",
   "metadata": {},
   "source": [
    "## Testando as Redes Neurais com Atributos Categóricos\n",
    "\n",
    "1. Considere as 6 redes neurais obtidas nos dois top-3 anteriores (arquiteturas próprias e regra da pirâmide geométrica)\n",
    "2. Com todos os atributos preditores da base de dados original, incluindo os categóricos, treine e teste estas mesmas redes por 100 repetições  \n",
    "    2.1 Considere o melhor otimizador para cada uma delas  \n",
    "    2.2 Faça uso de 200 épocas para treinamento  \n",
    "    2.2 Apresente os resultados de acurácia e F-Score em termos da média +- dp para cada arquitetura\n",
    "3. Apresente o gráfico boxplot para o F-Score das 6 arquiteturas perante as 100 repetições"
   ]
  },
  {
   "cell_type": "code",
   "execution_count": null,
   "metadata": {},
   "outputs": [],
   "source": []
  },
  {
   "cell_type": "markdown",
   "metadata": {},
   "source": [
    "## Considerações Parciais\n",
    "\n",
    "1. É possível identificar uma rede com desempenho superior às demais?\n",
    "2. Qual estratégia mostrou-se mais producente para a obtenção de boas arquiteturas (Estratégia Própria ou Pirâmide Geométrica)? Por quê?\n",
    "3. Considerar os atributos categóricos trouxe melhorias? Justifique.\n",
    "4. Um número maior de épocas trouxe melhorias?\n",
    "5. Qual a maior dificuldade de resolução do problema proposto perante as RNAs?"
   ]
  },
  {
   "cell_type": "code",
   "execution_count": 19,
   "metadata": {},
   "outputs": [
    {
     "output_type": "stream",
     "name": "stdout",
     "text": [
      "1.Ainda baseando nas métricas de desenpenho sim, mas se torna um pouco dificil realizar-se tal comparativo, visto que são utilizados parametros e configurações diferentes a cada execução.\n4.As vezes traz, outras vezes só gasta mais poder de processamento com modelos menos efetivos.\n5.Tempo e poder para realizar o processamento dos dados.\n"
     ]
    }
   ],
   "source": [
    "print(\"1.Ainda baseando nas métricas de desenpenho sim, mas se torna um pouco dificil realizar-se tal comparativo, visto que são utilizados parametros e configurações diferentes a cada execução.\")\n",
    "print(\"4.As vezes traz, outras vezes só gasta mais poder de processamento com modelos menos efetivos.\")\n",
    "print(\"5.Tempo e poder para realizar o processamento dos dados.\")"
   ]
  },
  {
   "cell_type": "code",
   "execution_count": null,
   "metadata": {},
   "outputs": [],
   "source": []
  }
 ],
 "metadata": {
  "kernelspec": {
   "name": "Python 3.7.8 64-bit",
   "display_name": "Python 3.7.8 64-bit",
   "metadata": {
    "interpreter": {
     "hash": "fbe28bcfee59f30c0cb765102c2d8740bc7e9b855c6799f01a92443df17c33c3"
    }
   }
  },
  "language_info": {
   "codemirror_mode": {
    "name": "ipython",
    "version": 3
   },
   "file_extension": ".py",
   "mimetype": "text/x-python",
   "name": "python",
   "nbconvert_exporter": "python",
   "pygments_lexer": "ipython3",
   "version": "3.7.8-final"
  }
 },
 "nbformat": 4,
 "nbformat_minor": 4
}