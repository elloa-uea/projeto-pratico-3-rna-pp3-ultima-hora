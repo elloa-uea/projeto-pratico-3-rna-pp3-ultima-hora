{
  "nbformat": 4,
  "nbformat_minor": 0,
  "metadata": {
    "kernelspec": {
      "display_name": "Python 3.7.8 64-bit",
      "language": "python",
      "name": "python37864bit04ff77db366d4186ba6f29691fbf3a65"
    },
    "language_info": {
      "codemirror_mode": {
        "name": "ipython",
        "version": 3
      },
      "file_extension": ".py",
      "mimetype": "text/x-python",
      "name": "python",
      "nbconvert_exporter": "python",
      "pygments_lexer": "ipython3",
      "version": "3.7.8-final"
    },
    "colab": {
      "name": "PP3_4_Validação_Cruzada_e_Busca_em_Grade.ipynb",
      "provenance": [],
      "toc_visible": true
    }
  },
  "cells": [
    {
      "cell_type": "markdown",
      "metadata": {
        "id": "OggpVtoCm1Ae"
      },
      "source": [
        "# Redes Neurais Artificiais 2020.1 -- Projeto Prático 3.4\n",
        "\n",
        "**Disciplina**: Redes Neurais Artificiais 2020.1  \n",
        "**Professora**: Elloá B. Guedes (ebgcosta@uea.edu.br)  \n",
        "**Github**: http://github.com/elloa  \n",
        "        \n",
        "\n",
        "Levando em conta a base de dados **_Forest Cover Type_**, esta terceira parte do Projeto Prático 3 diz respeito à proposição e avaliação de múltiplas redes neurais artificiais do tipo feedforward multilayer perceptron para o problema da classificação multi-classe da cobertura florestal em uma área do Roosevelt National Forest.\n",
        "\n",
        "## Busca em Grade\n",
        "\n",
        "Uma maneira padrão de escolher os parâmetros de um modelo de Machine Learning é por meio de uma busca em grade via força bruta. O algoritmo da busca em grade é dado como segue:\n",
        "\n",
        "1. Escolha a métrica de desempenho que você deseja maximizar  \n",
        "2. Escolha o algoritmo de Machine Learning (exemplo: redes neurais artificiais). Em seguida, defina os parâmetros ou hiperparâmetros deste tipo de modelo sobre os quais você dseja otimizar (número de épocas, taxa de aprendizado, etc.) e construa um array de valores a serem testados para cada parâmetro ou hiperparâmetro.  \n",
        "3. Defina a grade de busca, a qual é dada como o produto cartesiano de cada parâmetro a ser testado. Por exemplo, para os arrays [50, 100, 1000] e [10, 15], tem-se que a grade é [(50,10), (50,15), (100,10), (100,15), (1000,10), (1000,15)].\n",
        "4. Para cada combinação de parâmetros a serem otimizados, utilize o conjunto de treinamento para realizar uma validação cruzada (holdout ou k-fold) e calcule a métrica de avaliação no conjunto de teste (ou conjuntos de teste)\n",
        "5. Escolha a combinação de parâmetros que maximizam a métrica de avaliação. Este é o modelo otimizado.\n",
        "\n",
        "Por que esta abordagem funciona? Porque a busca em grade efetua uma pesquisa extensiva sobre as possíveis combinações de valores para cada um dos parâmetros a serem ajustados. Para cada combinação, ela estima a performance do modelo em dados novos. Por fim, o modelo com melhor métrica de desempenho é escolhido. Tem-se então que este modelo é o que melhor pode vir a generalizar mediante dados nunca antes vistos.\n",
        "\n",
        "## Efetuando a Busca em Grade sobre Hiperparâmetros das Top-6 RNAs\n",
        "\n",
        "Considerando a etapa anterior do projeto prático, foram identificadas pelo menos 6 melhores Redes Neurais para o problema da classificação multi-classe da cobertura florestal no conjunto de dados selecionado. Algumas destas redes possuem atributos categóricos como variáveis preditoras, enquanto outras possuem apenas os atributos numéricos como preditores.\n",
        "\n",
        "A primeira etapa desta segunda parte do projeto consiste em trazer para este notebook estas seis arquiteturas, ressaltando:\n",
        "\n",
        "1. Número de neurônios ocultos por camada  \n",
        "2. Função de Ativação  \n",
        "3. Utilização ou não de atributos categóricos   \n",
        "4. Desempenho médio +- desvio padrão nos testes anteriores  \n",
        "5. Número de repetições que a equipe conseguiu realizar para verificar os resultados  \n",
        "\n",
        "Elabore uma busca em grade sobre estas arquiteturas que contemple variações nos hiperparâmetros a seguir, conforme documentação de [MLPClassifier](https://scikit-learn.org/stable/modules/generated/sklearn.neural_network.MLPClassifier.html)\n",
        "\n",
        "A. Solver  (Não usar o LBFGS, pois é mais adequado para datasets pequenos)  \n",
        "B. Batch Size  \n",
        "C. Learning Rate Init  \n",
        "D. Paciência (n_iter_no_change)  \n",
        "E. Épocas  \n",
        "\n",
        "Nesta busca em grande, contemple a utilização do objeto [GridSearchCV](https://scikit-learn.org/stable/modules/generated/sklearn.model_selection.GridSearchCV.html)"
      ]
    },
    {
      "cell_type": "code",
      "metadata": {
        "id": "Y5-CLBEusQ8D"
      },
      "source": [
        "\n",
        "## Reservado para a importação de bibliotecas\n",
        "\n",
        "import pandas as pd\n",
        "import numpy as np\n",
        "import math\n",
        "import random\n",
        "from sklearn.model_selection import train_test_split\n",
        "from sklearn.neural_network import MLPClassifier\n",
        "from sklearn.metrics import confusion_matrix\n",
        "from sklearn.metrics import f1_score\n",
        "from sklearn.metrics import precision_score\n",
        "from sklearn.metrics import recall_score\n",
        "from sklearn.model_selection import GridSearchCV\n",
        "from sklearn.metrics import accuracy_score\n",
        "from sklearn.metrics import make_scorer"
      ],
      "execution_count": null,
      "outputs": []
    },
    {
      "cell_type": "code",
      "metadata": {
        "id": "Fg5P5MPXsa_H"
      },
      "source": [
        "\n",
        "# Leitura do dataset covtype.csv\n",
        "\n",
        "df = pd.read_csv('./covtype.csv', sep=',')  \n",
        "                                                \n",
        "#eliminando todos os atributos categóricos('Wilderness_Area' e 'Soil_Type'), geramos o 'df_sac' (dataframe sem atributos categóricos)\n",
        "for i in range(4):\n",
        "    df_sac = df.drop([('Wilderness_Area' + str(i+1))], axis = 1)\n",
        "for i in range(40):\n",
        "    df_sac = df.drop([('Soil_Type' + str(i+1))], axis = 1)\n",
        "\n",
        "# X = atributos preditores \n",
        "x = df_sac.drop(['Cover_Type'],axis = 1)\n",
        "# Y = atributo alvo\n",
        "y = df_sac['Cover_Type']"
      ],
      "execution_count": null,
      "outputs": []
    },
    {
      "cell_type": "code",
      "metadata": {
        "id": "LYMf71ndzT8E"
      },
      "source": [
        "# vetor top 3 configs das arquiteturas proprias\n",
        "arquiteturas = []\n",
        "\n",
        "# preenchimento do vetor com as 3 melhores configuracoes da arquitetura proprias\n",
        "arquiteturas.append({                                                          \n",
        "    \"camadasOcultas\": 1,\"funcaoAtivacao\": \"relu\", \"hiperparametro\": \"sgd\",\n",
        "    \"epocas\": 100, \"disposicaoNeuronios\": 11, \"acuracia\": 0.75436,\n",
        "    \"fscore\":0.57250\n",
        "})\n",
        "arquiteturas.append({                                                          \n",
        "    \"camadasOcultas\": 1, \"funcaoAtivacao\": \"logistic\", \"hiperparametro\": \"adam\",\n",
        "    \"epocas\": 100, \"disposicaoNeuronios\": 6, \"acuracia\": 0.74752,\n",
        "    \"fscore\":0.51983\n",
        "})\n",
        "arquiteturas.append({                                                          \n",
        "    \"camadasOcultas\": 1, \"funcaoAtivacao\": \"logistic\", \"hiperparametro\": \"adam\",\n",
        "    \"epocas\": 200, \"disposicaoNeuronios\": 4, \"acuracia\": 0.73415,\n",
        "    \"fscore\":0.46785\n",
        "})\n"
      ],
      "execution_count": null,
      "outputs": []
    },
    {
      "cell_type": "code",
      "metadata": {
        "id": "1-pj4eHu6rYk",
        "outputId": "43182fb7-a515-4bf9-c665-9d5614be1698",
        "colab": {
          "base_uri": "https://localhost:8080/",
          "height": 231
        }
      },
      "source": [
        "#configs da busca em grade                                                              \n",
        "scoring = {                                                                       \n",
        "    'f1_score': make_scorer(f1_score, average=\"macro\")\n",
        "}\n",
        "\n",
        "parametros ={                                                               \n",
        "    \"solver\": [\"sgd\", \"adam\"] ,\n",
        "    \"batch_size\": ['auto']  ,\n",
        "    \"learning_rate_init\": [0.001, 0.001] ,\n",
        "    \"n_iter_no_change\": [45, 55]  ,\n",
        "    \"max_iter\": [250, 400] \n",
        "} \n",
        "c = 0\n",
        "for i in arquiteturas:    \n",
        "    classifier = MLPClassifier(hidden_layer_sizes=(i[\"disposicaoNeuronios\"]),            \n",
        "                            activation=i[\"funcaoAtivacao\"], \n",
        "                            solver=i[\"hiperparametro\"], \n",
        "                            max_iter=i[\"epocas\"], \n",
        "                            verbose=False)\n",
        "    \n",
        "    clf = GridSearchCV(classifier, tuned_parameters, scoring=scoring, refit=\"f1_score\") \n",
        "    clf.fit(x, y)                                                                                                  "
      ],
      "execution_count": 1,
      "outputs": [
        {
          "output_type": "error",
          "ename": "NameError",
          "evalue": "ignored",
          "traceback": [
            "\u001b[0;31m---------------------------------------------------------------------------\u001b[0m",
            "\u001b[0;31mNameError\u001b[0m                                 Traceback (most recent call last)",
            "\u001b[0;32m<ipython-input-1-fca8f6f6b753>\u001b[0m in \u001b[0;36m<module>\u001b[0;34m()\u001b[0m\n\u001b[1;32m      1\u001b[0m \u001b[0;31m#configs da busca em grade\u001b[0m\u001b[0;34m\u001b[0m\u001b[0;34m\u001b[0m\u001b[0;34m\u001b[0m\u001b[0m\n\u001b[1;32m      2\u001b[0m scoring = {                                                                       \n\u001b[0;32m----> 3\u001b[0;31m     \u001b[0;34m'f1_score'\u001b[0m\u001b[0;34m:\u001b[0m \u001b[0mmake_scorer\u001b[0m\u001b[0;34m(\u001b[0m\u001b[0mf1_score\u001b[0m\u001b[0;34m,\u001b[0m \u001b[0maverage\u001b[0m\u001b[0;34m=\u001b[0m\u001b[0;34m\"macro\"\u001b[0m\u001b[0;34m)\u001b[0m\u001b[0;34m\u001b[0m\u001b[0;34m\u001b[0m\u001b[0m\n\u001b[0m\u001b[1;32m      4\u001b[0m }\n\u001b[1;32m      5\u001b[0m \u001b[0;34m\u001b[0m\u001b[0m\n",
            "\u001b[0;31mNameError\u001b[0m: name 'make_scorer' is not defined"
          ]
        }
      ]
    },
    {
      "cell_type": "markdown",
      "metadata": {
        "id": "zpMcajnom1Ag"
      },
      "source": [
        "## Validação Cruzada k-fold\n",
        "\n",
        "Na elaboração da busca em grid, vamos avaliar os modelos propostos segundo uma estratégia de validação cruzada ainda não explorada até o momento: a validação cruzada k-fold. Segundo a mesma, o conjunto de dados é particionado em k partes: a cada iteração, separa-se uma das partes para teste e o modelo é treinado com as k-1 partes remanescentes. Valores sugestivos de k na literatura são k = 3, 5 ou 10, pois o custo computacional desta validação dos modelos é alto. A métrica de desempenho é resultante da média dos desempenhos nas k iterações. A figura a seguir ilustra a ideia desta avaliação\n",
        "\n",
        "<img src = \"https://ethen8181.github.io/machine-learning/model_selection/img/kfolds.png\" width=600></img>\n",
        "\n",
        "Considerando a métrica de desempenho F1-Score, considere a validação cruzada 5-fold para aferir os resultados da busca em grande anterior."
      ]
    },
    {
      "cell_type": "code",
      "metadata": {
        "id": "O5WZgqgUm1Ah"
      },
      "source": [
        ""
      ],
      "execution_count": null,
      "outputs": []
    },
    {
      "cell_type": "code",
      "metadata": {
        "id": "2UuNMH79m1Ap"
      },
      "source": [
        ""
      ],
      "execution_count": null,
      "outputs": []
    },
    {
      "cell_type": "code",
      "metadata": {
        "id": "OMuYljrwm1Au"
      },
      "source": [
        ""
      ],
      "execution_count": null,
      "outputs": []
    },
    {
      "cell_type": "code",
      "metadata": {
        "id": "VFuwiFVum1A0"
      },
      "source": [
        ""
      ],
      "execution_count": null,
      "outputs": []
    },
    {
      "cell_type": "markdown",
      "metadata": {
        "id": "wGqba6Z_m1A5"
      },
      "source": [
        "## Identificando a mellhor solução\n",
        "\n",
        "Como resultado da busca em grande com validação cruzada 5-fold, identifique o modelo otimizado com melhor desempenho para o problema. Apresente claramente este modelo, seus parâmetros, hiperparâmetros otimizados e resultados para cada um dos folds avaliados. Esta é a melhor solução identificada em decorrência deste projeto"
      ]
    },
    {
      "cell_type": "code",
      "metadata": {
        "id": "VXgODspFm1A6"
      },
      "source": [
        ""
      ],
      "execution_count": null,
      "outputs": []
    },
    {
      "cell_type": "code",
      "metadata": {
        "id": "tsURFfc_m1BA"
      },
      "source": [
        ""
      ],
      "execution_count": null,
      "outputs": []
    },
    {
      "cell_type": "markdown",
      "metadata": {
        "id": "gRDgF8d9m1BF"
      },
      "source": [
        "## Empacotando a solução\n",
        "\n",
        "Suponha que você deve entregar este classificador ao órgão responsável por administrar o Roosevelt National Park. Para tanto, você deve fazer uma preparação do mesmo para utilização neste cenário. Uma vez que já identificou os melhores parâmetros e hiperparâmetros, o passo remanescente consiste em treinar o modelo com estes valores e todos os dados disponíveis, salvando o conjunto de pesos do modelo ao final para entrega ao cliente. Assim, finalize o projeto prático realizando tais passos.\n",
        "\n",
        "1. Consulte a documentação a seguir:\n",
        "https://scikit-learn.org/stable/modules/model_persistence.html\n",
        "2. Treine o modelo com todos os dados\n",
        "3. Salve o modelo em disco  \n",
        "4. Construa uma rotina que recupere o modelo em disco  \n",
        "5. Mostre que a rotina é funcional, fazendo previsões com todos os elementos do dataset e exibindo uma matriz de confusão das mesmas"
      ]
    }
  ]
}